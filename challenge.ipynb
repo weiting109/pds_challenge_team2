{
 "metadata": {
  "language_info": {
   "codemirror_mode": {
    "name": "ipython",
    "version": 3
   },
   "file_extension": ".py",
   "mimetype": "text/x-python",
   "name": "python",
   "nbconvert_exporter": "python",
   "pygments_lexer": "ipython3",
   "version": "3.8.5-final"
  },
  "orig_nbformat": 2,
  "kernelspec": {
   "name": "python38564bitvenvvenv10d77b77616640349c2445bb56b549fb",
   "display_name": "Python 3.8.5 64-bit ('venv': venv)"
  }
 },
 "nbformat": 4,
 "nbformat_minor": 2,
 "cells": [
  {
   "cell_type": "code",
   "execution_count": 7,
   "metadata": {},
   "outputs": [],
   "source": [
    "import pandas as pd\n",
    "import numpy as np"
   ]
  },
  {
   "cell_type": "code",
   "execution_count": 8,
   "metadata": {},
   "outputs": [
    {
     "output_type": "execute_result",
     "data": {
      "text/plain": "<bound method NDFrame.head of     city  year  weekofyear week_start_date   ndvi_ne   ndvi_nw   ndvi_se  \\\n0     sj  2008          18      2008-04-29 -0.018900 -0.018900  0.102729   \n1     sj  2008          19      2008-05-06 -0.018000 -0.012400  0.082043   \n2     sj  2008          20      2008-05-13 -0.001500       NaN  0.151083   \n3     sj  2008          21      2008-05-20       NaN -0.019867  0.124329   \n4     sj  2008          22      2008-05-27  0.056800  0.039833  0.062267   \n..   ...   ...         ...             ...       ...       ...       ...   \n411   iq  2013          22      2013-05-28  0.301471  0.380029  0.280629   \n412   iq  2013          23      2013-06-04  0.247600  0.296343  0.285371   \n413   iq  2013          24      2013-06-11  0.238729  0.251029  0.252586   \n414   iq  2013          25      2013-06-18  0.310429  0.302700  0.406614   \n415   iq  2013          26      2013-06-25  0.339467  0.240071  0.356943   \n\n      ndvi_sw  precipitation_amt_mm  reanalysis_air_temp_k  ...  \\\n0    0.091200                 78.60             298.492857  ...   \n1    0.072314                 12.56             298.475714  ...   \n2    0.091529                  3.66             299.455714  ...   \n3    0.125686                  0.00             299.690000  ...   \n4    0.075914                  0.76             299.780000  ...   \n..        ...                   ...                    ...  ...   \n411  0.383186                 41.12             297.774286  ...   \n412  0.350357                 71.52             297.167143  ...   \n413  0.249771                 78.96             295.831429  ...   \n414  0.403943                 39.54             295.778571  ...   \n415  0.273600                 51.80             297.372857  ...   \n\n     reanalysis_precip_amt_kg_per_m2  reanalysis_relative_humidity_percent  \\\n0                              25.37                             78.781429   \n1                              21.83                             78.230000   \n2                               4.12                             78.270000   \n3                               2.20                             73.015714   \n4                               4.36                             74.084286   \n..                               ...                                   ...   \n411                            67.60                             89.990000   \n412                            45.70                             93.891429   \n413                            45.22                             94.967143   \n414                             4.70                             89.057143   \n415                            27.80                             87.030000   \n\n     reanalysis_sat_precip_amt_mm  reanalysis_specific_humidity_g_per_kg  \\\n0                           78.60                              15.918571   \n1                           12.56                              15.791429   \n2                            3.66                              16.674286   \n3                            0.00                              15.775714   \n4                            0.76                              16.137143   \n..                            ...                                    ...   \n411                         41.12                              17.185714   \n412                         71.52                              17.448571   \n413                         78.96                              16.410000   \n414                         39.54                              15.137143   \n415                         51.80                              16.148571   \n\n     reanalysis_tdtr_k  station_avg_temp_c  station_diur_temp_rng_c  \\\n0             3.128571           26.528571                 7.057143   \n1             2.571429           26.071429                 5.557143   \n2             4.428571           27.928571                 7.785714   \n3             4.342857           28.057143                 6.271429   \n4             3.542857           27.614286                 7.085714   \n..                 ...                 ...                      ...   \n411          10.100000           27.400000                 9.050000   \n412           9.657143           27.520000                10.720000   \n413           7.385714           27.200000                10.075000   \n414           8.228571           26.700000                 8.480000   \n415          11.542857           27.350000                 9.675000   \n\n     station_max_temp_c  station_min_temp_c  station_precip_mm  \n0                  33.3                21.7               75.2  \n1                  30.0                22.2               34.3  \n2                  32.8                22.8                3.0  \n3                  33.3                24.4                0.3  \n4                  33.3                23.3               84.1  \n..                  ...                 ...                ...  \n411                32.6                21.8               33.0  \n412                33.8                21.4               68.0  \n413                32.6                21.6               93.2  \n414                32.2                21.8               34.1  \n415                32.6                22.0               14.9  \n\n[416 rows x 24 columns]>"
     },
     "metadata": {},
     "execution_count": 8
    }
   ],
   "source": [
    "df = pandas.read_csv('dengue_features_test.csv')\n",
    "df.head"
   ]
  },
  {
   "cell_type": "code",
   "execution_count": 1,
   "metadata": {},
   "outputs": [
    {
     "output_type": "execute_result",
     "data": {
      "text/plain": "'abc'"
     },
     "metadata": {},
     "execution_count": 1
    }
   ],
   "source": [
    "'abc'"
   ]
  },
  {
   "cell_type": "code",
   "execution_count": null,
   "metadata": {},
   "outputs": [],
   "source": []
  }
 ]
}