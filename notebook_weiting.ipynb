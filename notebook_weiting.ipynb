{
 "metadata": {
  "language_info": {
   "codemirror_mode": {
    "name": "ipython",
    "version": 3
   },
   "file_extension": ".py",
   "mimetype": "text/x-python",
   "name": "python",
   "nbconvert_exporter": "python",
   "pygments_lexer": "ipython3",
   "version": "3.8.5-final"
  },
  "orig_nbformat": 2,
  "kernelspec": {
   "name": "pds",
   "display_name": "pds"
  }
 },
 "nbformat": 4,
 "nbformat_minor": 2,
 "cells": [
  {
   "source": [
    "# Histopathologic Cancer Detection"
   ],
   "cell_type": "markdown",
   "metadata": {}
  },
  {
   "source": [
    "# 1. Installing libraries, downloading the dataset"
   ],
   "cell_type": "markdown",
   "metadata": {}
  },
  {
   "cell_type": "code",
   "execution_count": 98,
   "metadata": {},
   "outputs": [],
   "source": [
    "from numpy.random import seed\n",
    "seed(101)\n",
    "\n",
    "import pandas as pd\n",
    "import numpy as np\n",
    "\n",
    "\n",
    "import tensorflow as tf\n",
    "from tensorflow import keras\n",
    "from tensorflow.keras.preprocessing.image import ImageDataGenerator\n",
    "from tensorflow.keras.layers import Conv2D, MaxPooling2D\n",
    "from tensorflow.keras.layers import Dense, Dropout, Flatten, Activation\n",
    "from tensorflow.keras.models import Sequential\n",
    "from tensorflow.keras.callbacks import EarlyStopping, ReduceLROnPlateau, ModelCheckpoint\n",
    "from tensorflow.keras.optimizers import Adam\n",
    "\n",
    "import os\n",
    "import cv2\n",
    "\n",
    "from sklearn.utils import shuffle\n",
    "from sklearn.metrics import confusion_matrix\n",
    "from sklearn.model_selection import train_test_split\n",
    "import itertools\n",
    "import shutil\n",
    "import matplotlib.pyplot as plt\n",
    "%matplotlib inline"
   ]
  },
  {
   "source": [
    "We are not allowed to share the dataset. Download the dataset from Kaggle by pip installing kaggle, and running `kaggle competitions download -c histopathologic-cancer-detection` in your terminal. Then, extract files from the histopathologic-cancer-detection.zip folder into a new folder called 'data'."
   ],
   "cell_type": "markdown",
   "metadata": {}
  },
  {
   "cell_type": "code",
   "execution_count": 99,
   "metadata": {},
   "outputs": [],
   "source": [
    "IMAGE_SIZE = 96\n",
    "IMAGE_CHANNELS = 3\n",
    "\n",
    "SAMPLE_SIZE = 80000 # the number of images we use from each of the two classes"
   ]
  },
  {
   "cell_type": "code",
   "execution_count": 100,
   "metadata": {},
   "outputs": [
    {
     "output_type": "stream",
     "name": "stdout",
     "text": [
      "220025\n57458\n"
     ]
    }
   ],
   "source": [
    "# See image count in each folder\n",
    "print(len(os.listdir('data/train')))\n",
    "print(len(os.listdir('data/test')))"
   ]
  },
  {
   "source": [
    "# 2. Data Pre-processing"
   ],
   "cell_type": "markdown",
   "metadata": {}
  },
  {
   "source": [
    "Now that the data has been properly loaded and set-up, we must now pre-process our data: in our case, we mainnly subset the data, augment the images, and split it into train and test.\n",
    "\n",
    "Note: The data takes hours to download in its full size, leaving a high possibility of crashing the kernel, not to mention the time required to train the model. Thus, we slightly modified someone else's preprocessing instructions throughout this entire stage to get a smaller subset of the data. This will make it faster and easier for us to run and train our model.\n",
    "\n",
    "https://www.kaggle.com/vbookshelf/cnn-how-to-use-160-000-images-without-crashing"
   ],
   "cell_type": "markdown",
   "metadata": {}
  },
  {
   "source": [
    "## Removing anomalous images"
   ],
   "cell_type": "markdown",
   "metadata": {}
  },
  {
   "cell_type": "code",
   "execution_count": 101,
   "metadata": {},
   "outputs": [
    {
     "output_type": "stream",
     "name": "stdout",
     "text": [
      "(220025, 2)\n"
     ]
    }
   ],
   "source": [
    "# Create a Dataframe containing all images\n",
    "data = pd.read_csv('data/train_labels.csv')\n",
    "\n",
    "# Removing this image because it caused a training error previously\n",
    "data[data['id'] != 'dd6dfed324f9fcb6f93f46f32fc800f2ec196be2']\n",
    "\n",
    "# Removing this image because it's black\n",
    "data[data['id'] != '9369c7278ec8bcc6c880d99194de09fc2bd4efbe']\n",
    "\n",
    "print(data.shape)"
   ]
  },
  {
   "source": [
    "## Augmenting image data\n",
    "\n",
    "Justification for augmentation\n",
    "\n",
    "This Kaggle challenge is a Machine Learning challenge. Machine learning however, requires plenty and diverse training data to accurately predict future data points without overfitting or underfitting. We have a lot of data points already, but also want to diversify them to prevent overfitting to the original data that may be too similar to each other already. We decided to augment the images in order to increase the diversity of images as inspired by this github repo below.\n",
    "\n",
    "https://github.com/aleju/imgaug"
   ],
   "cell_type": "markdown",
   "metadata": {}
  },
  {
   "cell_type": "code",
   "execution_count": 102,
   "metadata": {},
   "outputs": [],
   "source": [
    "#Function for augmenting data\n",
    "from skimage.transform import rotate, AffineTransform\n",
    "import cv2\n",
    "from skimage.util import random_noise\n",
    "import random\n",
    "import os\n",
    "from skimage import io\n",
    "from skimage import img_as_ubyte\n",
    "\n",
    "ORIGINAL_SIZE = IMAGE_SIZE      # original size of the images - do not change\n",
    "\n",
    "# AUGMENTATION VARIABLES\n",
    "CROP_SIZE = 90          # final size after crop\n",
    "RANDOM_ROTATION = 3    # range (0-180), 180 allows all rotation variations, 0=no change\n",
    "RANDOM_SHIFT = 2        # center crop shift in x and y axes, 0=no change. This cannot be more than (ORIGINAL_SIZE - CROP_SIZE)//2 \n",
    "RANDOM_BRIGHTNESS = 7  # range (0-100), 0=no change\n",
    "RANDOM_CONTRAST = 5    # range (0-100), 0=no change\n",
    "RANDOM_90_DEG_TURN = 1  # 0 or 1= random turn to left or right\n",
    "\n",
    "def readCroppedImage(path, augmentations = True):\n",
    "    '''\n",
    "    This is a custom function to convert an input image, augment it through\n",
    "    random rotation, random x or y shift, random cropping, random flipping, \n",
    "    random changes in brightness and contrast, and returning it as an rgb tensor.\n",
    "    '''\n",
    "    # augmentations parameter is included for counting statistics from images, where we don't want augmentations\n",
    "    \n",
    "    # OpenCV reads the image in bgr format by default\n",
    "    bgr_img = cv2.imread(path)\n",
    "    # We flip it to rgb for visualization purposes\n",
    "    b,g,r = cv2.split(bgr_img)\n",
    "    rgb_img = cv2.merge([r,g,b])\n",
    "    \n",
    "    if(not augmentations):\n",
    "        return rgb_img / 255\n",
    "    \n",
    "    #random rotation\n",
    "    rotation = random.randint(-RANDOM_ROTATION,RANDOM_ROTATION)\n",
    "    if(RANDOM_90_DEG_TURN == 1):\n",
    "        rotation += random.randint(-1,1) * 90\n",
    "    M = cv2.getRotationMatrix2D((48,48),rotation,1)   # the center point is the rotation anchor\n",
    "    rgb_img = cv2.warpAffine(rgb_img,M,(96,96))\n",
    "    \n",
    "    #random x,y-shift\n",
    "    x = random.randint(-RANDOM_SHIFT, RANDOM_SHIFT)\n",
    "    y = random.randint(-RANDOM_SHIFT, RANDOM_SHIFT)\n",
    "    \n",
    "    # crop to center and normalize to 0-1 range\n",
    "    start_crop = (ORIGINAL_SIZE - CROP_SIZE) // 2\n",
    "    end_crop = start_crop + CROP_SIZE\n",
    "    rgb_img = rgb_img[(start_crop + x):(end_crop + x), (start_crop + y):(end_crop + y)] / 255\n",
    "    \n",
    "    # Random flip\n",
    "    flip_hor = bool(random.getrandbits(1))\n",
    "    flip_ver = bool(random.getrandbits(1))\n",
    "    if(flip_hor):\n",
    "        rgb_img = rgb_img[:, ::-1]\n",
    "    if(flip_ver):\n",
    "        rgb_img = rgb_img[::-1, :]\n",
    "        \n",
    "    # Random brightness\n",
    "    br = random.randint(-RANDOM_BRIGHTNESS, RANDOM_BRIGHTNESS) / 100.\n",
    "    rgb_img = rgb_img + br\n",
    "    \n",
    "    # Random contrast\n",
    "    cr = 1.0 + random.randint(-RANDOM_CONTRAST, RANDOM_CONTRAST) / 100.\n",
    "    rgb_img = rgb_img * cr\n",
    "    \n",
    "    # clip values to 0-1 range\n",
    "    rgb_img = np.clip(rgb_img, 0, 1.0)\n",
    "    \n",
    "    return img_as_ubyte(rgb_img)"
   ]
  },
  {
   "cell_type": "code",
   "execution_count": 103,
   "metadata": {
    "tags": [
     "outputPrepend"
    ]
   },
   "outputs": [
    {
     "output_type": "stream",
     "name": "stdout",
     "text": [
      "f\n",
      "data/train/augmented_2d8ef4008fb380d79f7da2207e1ef874a0b57771.tif\n",
      "data/train/augmented_e6480906ad4a0bc2d115d21b8a166a64ec5deb68.tif\n",
      "data/train/augmented_ca8d4902c62e5d892c31f742851b05f0f58069bc.tif\n",
      "data/train/augmented_40a49247a96cca38382ce942f968af98d73f52c0.tif\n",
      "data/train/augmented_fb45ff1ad7e35b0a9a3e31ad9684e987064d15b3.tif\n",
      "data/train/augmented_49e84ecc96fa2efd589d1b3439f0a6da1f0c93de.tif\n",
      "data/train/augmented_95a945865b2a21ca26598a04841c5ad66a3888a4.tif\n",
      "data/train/augmented_f5f8d4fc5fbe4f1117856fb089a67a992b76f2da.tif\n",
      "data/train/augmented_56555b97da85148fcb3a86ee40ed152b8c2cb2c8.tif\n",
      "data/train/augmented_4ada2fce5b2629dd99124835f6db0168e66b41f8.tif\n",
      "data/train/augmented_72d3288fd33298fa4877f6aa2502edae01c8fd4b.tif\n",
      "data/train/augmented_64357f73582077d4b2d9639fd5e08fd55f7aad9f.tif\n",
      "data/train/augmented_325bd81e3c7a6d8cdac9d3092d7dc9f323e673e5.tif\n",
      "data/train/augmented_7b0f434fa3584667724ac24de33441ec0443f718.tif\n",
      "data/train/augmented_773c6ccf0fad177d92a35c8e341ff072eddd19a2.tif\n",
      "data/train/augmented_c1cc2b51c97784177f7253fa6ea56d2ecfa24782.tif\n",
      "data/train/augmented_4e265e164dc0f955d80c29c3e6b28ee74b6253de.tif\n",
      "data/train/augmented_980409ce48b6aeb1e8786856b428290f4970ffaa.tif\n",
      "data/train/augmented_ae2782e36544185f0b132ee905d91cf15f12aaf7.tif\n",
      "data/train/augmented_412ccdfc215e285046a289866ed2dae5e5f5b5e6.tif\n",
      "data/train/augmented_4852d2beffa67feba8a68cb41842a9498615cf37.tif\n",
      "data/train/augmented_eaa0d2b2687428981796d760ca1180ffe904d285.tif\n",
      "data/train/augmented_5d269c6406104eb31a3646561ca7070c4aa31420.tif\n",
      "data/train/augmented_a0cf2a6a4a16ec09c51c87a26172972ba8108ddf.tif\n",
      "data/train/augmented_96d480912c49c6c9363f1faf9bb22729f5da4ead.tif\n",
      "data/train/augmented_da0d2df7f2871aa4fe817e6700bc749e4756ef34.tif\n",
      "data/train/augmented_b300fe111449f02ff9fbff7ce18b40e1a47a6ae6.tif\n",
      "data/train/augmented_6e58e181d5527d7b5786925d06db7228143a48e2.tif\n",
      "data/train/augmented_d790d0350d58b09ba2ef25dd1a13f354174ad4ba.tif\n",
      "data/train/augmented_a9a8abb8317e149c25c4234b228340df85bcf597.tif\n",
      "data/train/augmented_ce42fc0de23e219d5933f8c714914f782b791db0.tif\n",
      "data/train/augmented_7f3c8c0e4cd501734109044b74892189bf8ddac4.tif\n",
      "data/train/augmented_6af075f28f7f1d62989a3a0e90f6ac4c1c122b27.tif\n",
      "data/train/augmented_a6c0a767049ae862356656c3b700f8d00443e0c9.tif\n",
      "data/train/augmented_e351d58234adc4d51ee1cdd3dac54e5fad807d5f.tif\n",
      "data/train/augmented_0df0bec059313baea376155c4b3fe046b2ac3e21.tif\n",
      "data/train/augmented_da8fd60b538aac97bc0088c8af7e1dc162da569e.tif\n",
      "data/train/augmented_73426ab99ba4e61350e5f336b4fc1d19c0bbe6f6.tif\n",
      "data/train/augmented_64254e635f9a8f80e6593348b00fbf1bfe7f76b6.tif\n",
      "data/train/augmented_63b1dc4930db926e2926314f4a3399f92d145856.tif\n",
      "data/train/augmented_7606c51b586f8a92d5f99dc66b93cff2c5d422bc.tif\n",
      "data/train/augmented_3663f641b6f1e8c6b10dca0bf4d501984d531223.tif\n",
      "data/train/augmented_64c3f03cc8dd29e96e9e9942cd26c72dc5c38b4c.tif\n",
      "data/train/augmented_5a49a6fcdbde6ee94b7cc1a738b3f6464e7e3940.tif\n",
      "data/train/augmented_59767e1e411276469e209896d13fec5c16b12bfe.tif\n",
      "data/train/augmented_6904461f4a71438a41effdd02aebc2fe5b923307.tif\n",
      "data/train/augmented_98f1d0f07187ba66c514c02a5013f0d3cd2c3d0e.tif\n",
      "data/train/augmented_97a1e1ce5f435840b3d48eeeb1f6e23ed668f76e.tif\n",
      "data/train/augmented_9e2a233cb82131976c62cb8a510f8c406d30acbb.tif\n",
      "data/train/augmented_656e37903c412609bcba248fa7cab24f1e078f92.tif\n",
      "data/train/augmented_a500b406ccf9011799c8dfcaf027414447a2075c.tif\n",
      "data/train/augmented_cbfad900787463e05fbfc9da8006ac2cef244e08.tif\n",
      "data/train/augmented_eb6d7e460199b2fdb3f6d33f852b34fb61f93c93.tif\n",
      "data/train/augmented_e701e4124122773063860aae8edbda05ff7b5d65.tif\n",
      "data/train/augmented_fa38610627dacc7ef28d0a4797c11c7fe0e02126.tif\n",
      "data/train/augmented_322977c1eab567c1763591ca3758aaceea59cd7b.tif\n",
      "data/train/augmented_eda2265deff07c004930e633cb2d8dc16b28206c.tif\n",
      "data/train/augmented_6344618eafb3333d5b071d12af3b119d1736af9a.tif\n",
      "data/train/augmented_6d3619a741641ef7438304724d192916a6dc6c0e.tif\n",
      "data/train/augmented_8f8797464b1574d09f4b4b24eea96da2bf40ef7e.tif\n",
      "data/train/augmented_fe89ecd399e7e6e5ed55c3b749f5f8f83f4a81bd.tif\n",
      "data/train/augmented_8532aceee8969a2163d172a3b02b5ca6d000f01c.tif\n",
      "data/train/augmented_78786466cc3dd2dcda1b40556bde80117d12ec67.tif\n",
      "data/train/augmented_44e1cae48bef885573dc1f8f53145c5cc71bc397.tif\n",
      "data/train/augmented_22a638be9bc1ceacac5133eb4e59aa6308659548.tif\n",
      "data/train/augmented_e3e2bfebd4b5e97482d03e2b6993ad5342e79680.tif\n",
      "data/train/augmented_c8dec7c0fa238e69b49e369f8958b7e3a1b04e4a.tif\n",
      "data/train/augmented_419f17b1588db3251ad162b30f2b395e4a2cd2c8.tif\n",
      "data/train/augmented_1f775cce9d5b0a1c39588d0047628fd23476f01d.tif\n",
      "data/train/augmented_2f5f78d8a84df952c832e08fa02769a0125b6840.tif\n",
      "data/train/augmented_e9fe375608cd9469d15899cf1bab1e0841182a1b.tif\n",
      "data/train/augmented_bf7eeb175c0af41def5093acf9e342098bad32c8.tif\n",
      "data/train/augmented_974bd83baefcbd738ef561ce5c8f84e212d27196.tif\n",
      "data/train/augmented_72df3014b4848c3885b5704649a4980c4199880e.tif\n",
      "data/train/augmented_92f335d990014586c9454e4b7eee3052b99d99e7.tif\n",
      "data/train/augmented_3a7256fcac1eb170f6b855e19fee9875ffd42862.tif\n",
      "data/train/augmented_89ee7e761743ff78e5d2e7cbe248f6ec763baa76.tif\n",
      "data/train/augmented_fbecfaba21c13523a4b0f211e4c58385f85bc5b1.tif\n",
      "data/train/augmented_a6bd77241ed89862cc41c76f1f7a8f4a762682e7.tif\n",
      "data/train/augmented_f8f5f291c4aa3c998312ff5ec167cb980dd7de15.tif\n",
      "data/train/augmented_02db04fbd12e44976347c5e1e0609e8e28dd176b.tif\n",
      "data/train/augmented_9f3483d90ebc8cfed9a8a1e5bddf4d44d4c5091f.tif\n",
      "data/train/augmented_d85ac0848fbb885cd5da3cd61d70b1f386964933.tif\n",
      "data/train/augmented_c4c2b169c177572187920b8cad85a7f61880fc19.tif\n",
      "data/train/augmented_f0c2a0b8ef3024f407fa97d852d49be0215cafe0.tif\n",
      "data/train/augmented_32efc9a936cc14ec34bbd85e4dd3759c3996e994.tif\n",
      "data/train/augmented_21a3f824883498244d3e7dd93250d83cadf68f9f.tif\n",
      "data/train/augmented_02a6dfd43867f8e6587b93e3a1981dcc72bff375.tif\n",
      "data/train/augmented_f7df67f59b7d0089c483a8f1c2ead2f6d1b5f534.tif\n",
      "data/train/augmented_4866af0f1aa6868ffc4446c9a8552a5cff3b7660.tif\n",
      "data/train/augmented_a0f43530bbf417dd7cd1840f278b7294d34866d2.tif\n",
      "data/train/augmented_cc886f0b4b52fbc3f4df9f6f8920e1ce854d75c8.tif\n",
      "data/train/augmented_a5a0b02f0aede6cd6ff7392552aca798aa3f8d37.tif\n",
      "data/train/augmented_991bee93139f83eccac04e780cb86caef273d587.tif\n",
      "data/train/augmented_eb36469d11005e7c910e4c4b955446c56d70be33.tif\n",
      "data/train/augmented_325c7281471a34a113be2881a38e732a32df0162.tif\n",
      "data/train/augmented_e089734d0dd5083dc105a8c26c2baffa363999a4.tif\n",
      "data/train/augmented_a7d54ec8761766636f62ed77a0613e1703c79f26.tif\n",
      "data/train/augmented_4cdaf969ab99f25a5fb4a3015c9d87e0c68a002c.tif\n",
      "data/train/augmented_0415695ac79accbac4e29e1a33cde138aec38d2e.tif\n",
      "data/train/augmented_e2c02b20ccd766315d1bc3efbdb1eb18ba159edb.tif\n",
      "data/train/augmented_7dc8d7c450c71fdde5b16f1c640160d7911ec539.tif\n",
      "data/train/augmented_7142cd7155b80321e2b9a9df23af6aef94fe60e2.tif\n",
      "data/train/augmented_96ec86245983c16752d30b7b55c86bdbb9126b32.tif\n",
      "data/train/augmented_873ba60b9369b188cd721b7abcbeff77dd46e149.tif\n",
      "data/train/augmented_843b2d79782368e3bc1ed18a1f5174e8cf0fbf67.tif\n",
      "data/train/augmented_c7080d1f941feeb701f1d38c13c451381e663773.tif\n",
      "data/train/augmented_f8d1ed100c75818a046b5c4601869b2d4b1230ad.tif\n",
      "data/train/augmented_e51e60d50f172726e15c0ee528a86e1ab612f751.tif\n",
      "data/train/augmented_a5604334e7e4631668333a4a78faf76d1a7b9a41.tif\n",
      "data/train/augmented_7c0ccb6e943105c8f1d56977e6adaabacef790db.tif\n",
      "data/train/augmented_8d774b9c805bdb439931f3d06399950c249c689b.tif\n",
      "data/train/augmented_28ea65beadf2f2686fc2b0f0ff12908318e49118.tif\n",
      "data/train/augmented_130e583590265c6f251ff6eddbe6691821b4c05e.tif\n",
      "data/train/augmented_3a91952b836a52a8d0bf3ec49ab31541ce3b0a3d.tif\n",
      "data/train/augmented_02ade9cf7dd3a910fb6ec6acc0f0f6b98ae689c2.tif\n",
      "data/train/augmented_fc010405743d05d04df27a776467cbf0ee35e9af.tif\n",
      "data/train/augmented_bb8ba1d83d1114ef3b69c56c412521caa54b41fa.tif\n",
      "data/train/augmented_78b9ee4e39ccdbe7eb0d1eecefe4833e8f91431b.tif\n",
      "data/train/augmented_d9543d66c55200f646620b1f7415b3f98419b8f6.tif\n",
      "data/train/augmented_dae6aca1c766c832d8228355232ff4ba63951747.tif\n",
      "data/train/augmented_34058c2fe64e2e324d538d462b70ab06d0012e4f.tif\n",
      "data/train/augmented_998511b07ecb644abf32db00aed0a44aae95055b.tif\n",
      "data/train/augmented_733aa670e1227014e304f976e79f5034090dcdfd.tif\n",
      "data/train/augmented_b258caba5b523def15724b1df5c4815e5f671224.tif\n",
      "data/train/augmented_e3568c3b0f9b55c51f073c21376aba754a34cb7b.tif\n",
      "data/train/augmented_75f721ae7c79dc927f1d86693c319e69a90dbaf6.tif\n",
      "data/train/augmented_2736ac1c1073a03b67bd82b368846ebd20de3862.tif\n",
      "data/train/augmented_8526c487fa9fd0f85128e53f83bf4ed35bd1c343.tif\n",
      "data/train/augmented_398fd4bbd52c7f881dde96ec3feb684681522e39.tif\n",
      "data/train/augmented_681d8c57a89c4eafe851878e0e4c17c11d35c06e.tif\n",
      "data/train/augmented_77fa41be8e9196bc891f5728375caa3ac7814fbf.tif\n",
      "data/train/augmented_29c78db18c59415aac485f9e192e3db767d482e2.tif\n",
      "data/train/augmented_8d13de762541c0f95026f86ec6afde898f30057f.tif\n",
      "data/train/augmented_3aa52b96332878ae49cf2c82572e06e86ed9456e.tif\n",
      "data/train/augmented_13d011a40ff84553bd37a8154d61eeb8dd1d2c4b.tif\n",
      "data/train/augmented_34a34f1ab796ce4008e3dab2b9d283b8e2b138be.tif\n",
      "data/train/augmented_375393b8d3fc7338909e7a5c99c408d84859d20a.tif\n",
      "data/train/augmented_1976924f642df653b5daad10776a8499c70ccc42.tif\n",
      "data/train/augmented_2925a53cbdcaea5fcf8865a505b30a7a0e2739fe.tif\n",
      "data/train/augmented_471773bcae3cebd4263b151dcc49bf7a83dcfc23.tif\n",
      "data/train/augmented_aa9c58a3144f1633c1a89097cacafc6561d99c07.tif\n",
      "data/train/augmented_e96caead8ed45f1f7981395db53b1b3a36668148.tif\n",
      "data/train/augmented_019688f4e81e21a2149d9acd6ba79ab1cce722d4.tif\n",
      "data/train/augmented_7dc0f854fb86179882aee7d9c86b162742a9c6ac.tif\n",
      "data/train/augmented_4e9d2993fb5c9ff6cfd076b5e3ec99bbd8abd66d.tif\n",
      "data/train/augmented_5584a0fb755e22442b06d9778012ea2d3bcb9249.tif\n",
      "data/train/augmented_e388174ad3f763fc9b12a71abf506352a89e2f36.tif\n",
      "data/train/augmented_5fe49e8c024a2815a17abc6db5d8f25936de7e7f.tif\n",
      "data/train/augmented_a48b09ed09de4d5b985936d393f7c95bc0d197b6.tif\n",
      "data/train/augmented_ccfeb2e2ed1e833a2bd3a138075c319168b9e815.tif\n",
      "data/train/augmented_c16cabdacdc606dbe798519c20db7cd5ba056707.tif\n",
      "data/train/augmented_ad06c7356c395faafc58284cca1f9bed9b43e297.tif\n",
      "data/train/augmented_8a47f39be2e0ff78ceb52032f8b8ecd6e621803c.tif\n",
      "data/train/augmented_057a0b2ce240b528c50b5ff5ab1d55015ddabf3f.tif\n",
      "data/train/augmented_8be6c7a28ad81541b38af066c8a613c38d15729e.tif\n",
      "data/train/augmented_ad06d3002e6ec8bc5769084687e9bbad07b0fa1d.tif\n",
      "data/train/augmented_e791fe397dd92a5ff597695e3856d1d4a3974acf.tif\n",
      "data/train/augmented_4287783ca7aa630d8d61d03d306eb681d6928592.tif\n",
      "data/train/augmented_9e6d669e16a32182d419c1d507cfb0a4d8556842.tif\n",
      "data/train/augmented_1f822fb2e435769278a6cb2ca98ef2d06e259f98.tif\n",
      "data/train/augmented_22d3cf93db914254ec5d7a82f40b9c511ddec76d.tif\n",
      "data/train/augmented_ed8a72b5179451826f166b541df94889289e1480.tif\n",
      "data/train/augmented_fee86c764d203526ee1c3875038755065a13f2d2.tif\n",
      "data/train/augmented_0ca88e398bd91ea7577935c4268447c501bf7629.tif\n",
      "data/train/augmented_5b3890bf6ed977726b2bc777cc67dae8443c37ef.tif\n",
      "data/train/augmented_3694aa21add14dbbc74bff556c8c045d07ccc2dc.tif\n",
      "data/train/augmented_cbdd329c8842bf534e2c02385a33e01d08915f95.tif\n",
      "data/train/augmented_96af52f412863ac29f487683d94f28420d2bda59.tif\n",
      "data/train/augmented_56bc874cfd0667eecc38138e291f3f073013f7e1.tif\n",
      "data/train/augmented_c095c75caec43c7b5fdf3daeaabb47cfaf6a0052.tif\n",
      "data/train/augmented_94816ac473278f5769b2f92199b107934b153f4d.tif\n",
      "data/train/augmented_c5d38417b5456bf062e9b5bc971db5e01d5bc399.tif\n",
      "data/train/augmented_6e5ed1ea1053a8b6e0e31a9e58f34119d957c63a.tif\n",
      "data/train/augmented_b9c0944872ef64959912346dfc5a22d5685513b4.tif\n",
      "data/train/augmented_56091bf530ae5a82e250996b756e7c3d9ac9f9d6.tif\n",
      "data/train/augmented_966a2eea205f1d4a0f45a8b2b791ae5f2b54a7c8.tif\n",
      "data/train/augmented_8a2e42f6892c18b61b5497fc77797d06e8f14b2b.tif\n",
      "data/train/augmented_fee95bd930e003b1fccb232636c6af46185237da.tif\n",
      "data/train/augmented_ce899e7e157c3764bfee0fd6f0ac884d05649094.tif\n",
      "data/train/augmented_271be6fb57b5be68dcb41abe6a209a81ca3709b2.tif\n",
      "data/train/augmented_9f3e1a2b0c758c7f68166ccb397b56e608134280.tif\n",
      "data/train/augmented_daa55e0885d4d8dccca9f092634dbb8e9b969eb8.tif\n",
      "data/train/augmented_2671725b334c4653126b638e4170843803a43271.tif\n",
      "data/train/augmented_46b9a96b761f6e3cdd3ca85639a3820108b6aa26.tif\n",
      "data/train/augmented_55182af925ddced1c23de245bbabbe2f4d70d318.tif\n",
      "data/train/augmented_8af4dbd84bb7e91dedc5aa2430111d5396d28dba.tif\n",
      "data/train/augmented_9446fc0fc2433c4ce89c2d0dd949c4df32928faa.tif\n",
      "data/train/augmented_20e1a7dafb7d680dfa33f15740a91c5da9e7da44.tif\n",
      "data/train/augmented_6cc203893b62580f14246af7122f99ee08e44476.tif\n",
      "data/train/augmented_3c22c751396302d69b059d2c1210da7b11f675a0.tif\n",
      "data/train/augmented_22befd0095c70b2efdc5d3a81ec04e30a8fbbdb0.tif\n",
      "data/train/augmented_f78a07472dfb44deef6509c4e85e2316df2c210e.tif\n",
      "data/train/augmented_4a85b80c18a1052ae7071fb71c9f989ede57c82f.tif\n",
      "data/train/augmented_b6616e172c9e5863c90b23d0b4bacbe507dd6802.tif\n",
      "data/train/augmented_9c219c47c787f56f9fa0bc580f90230567e393f1.tif\n",
      "data/train/augmented_cdef46e18481aca9551b7488b8a66ad3fc7f5b23.tif\n",
      "data/train/augmented_7b2f954a4b418992b5ae8d196ece57d8e6312e3a.tif\n",
      "data/train/augmented_186c08d7eacea0ecb1d5058f91bbf7a9c53aa636.tif\n",
      "data/train/augmented_b47e617a8833db3198e0e4c7aec60fad2b9cb239.tif\n",
      "data/train/augmented_252ec74e7f23e57204a8bc07d202e195b197493d.tif\n",
      "data/train/augmented_c4db57009ef4e461288e0d1d3049310afcb66138.tif\n",
      "data/train/augmented_067e22ec017c4471b3c402653c0e421f90fc0826.tif\n",
      "data/train/augmented_9660e9a038a13ed53d8b4d214ba1fcb0a2ee89c7.tif\n",
      "data/train/augmented_85ca2d212e1c723cae0ace20b779b0a100b498d7.tif\n",
      "data/train/augmented_d5a1c703d3bd04c6d082362bd05e09662cb9da41.tif\n",
      "data/train/augmented_a015dc309453814bf086d3b2544afef1e9090102.tif\n",
      "data/train/augmented_ac50951548c3a359049a82b71dd5656213f44fa1.tif\n",
      "data/train/augmented_94686107f58716b4d511bbe9da54579ced3cfed7.tif\n",
      "data/train/augmented_f6173357bf4f46cc74a54a47927cd0902e2ced4d.tif\n",
      "data/train/augmented_3a8ab22815c17130150ff601fd404e28f037857d.tif\n",
      "data/train/augmented_e2d384f1d11980b6bd6e878bcdf99c43d18348b8.tif\n",
      "data/train/augmented_96d0abd6fa720218d04c81a1d2376b1dbc0dbf57.tif\n",
      "data/train/augmented_b8d48cd03035cc332df51b7ab6107551a6a5c623.tif\n",
      "data/train/augmented_94689816b32788df3732d948f2309d332f4caefa.tif\n",
      "data/train/augmented_309ca50fb26916fdaeb2dd8431266cd2c68dfad1.tif\n",
      "data/train/augmented_18f17b08db8a579591e970a972de682f963eb364.tif\n",
      "data/train/augmented_26438143faa65d4cc33e20f26ca0d4fc466a9ddc.tif\n",
      "data/train/augmented_814d08598e50d655104eaeba8de05a28a85b824c.tif\n",
      "data/train/augmented_019d53e8ed63c795630d14233fc3fdd2fd905f46.tif\n",
      "data/train/augmented_7add32fe2ef7a7901314329bf66a093712c9686b.tif\n",
      "data/train/augmented_db15c0093b4ff32b0453ccd9d3b5fd4665fbba00.tif\n",
      "data/train/augmented_963fce0fdcfe34677210da17eee2b9477e5ceca4.tif\n",
      "data/train/augmented_9a16af40423e7742004b85cc3070821a8d389c0e.tif\n",
      "data/train/augmented_ed0441d670f8c7d364afd610db6d436fc1b6728d.tif\n",
      "data/train/augmented_14266bd2e1e20360632b8ac4f4e7f05a419c0a65.tif\n",
      "data/train/augmented_299ea7de30989db6c2b30f4853f9a9c3e198476e.tif\n",
      "data/train/augmented_f5ab6a82d1bfed79ca42d97455367de9f3d8011c.tif\n",
      "data/train/augmented_3dd55b3c812cae53611bd8741c827cb5a808acb8.tif\n",
      "data/train/augmented_5fa74b44a692de4ffc736faad9b7003af6339aa5.tif\n",
      "data/train/augmented_a5d8b5d0f6dd6cbe048bd6e64ef1c7aa4a651875.tif\n",
      "data/train/augmented_2a2e1a41a557f0b9ed99d656ed3b3a5d1f2592f4.tif\n",
      "data/train/augmented_38efdc49eb8eff1a81869ff7e820b428ed3cf361.tif\n",
      "data/train/augmented_bb37a7ba95c65a8a5b65c04529b9e73acaa6e4ab.tif\n",
      "data/train/augmented_2ace1982816b93387c5c44464be9e51673ea7922.tif\n",
      "data/train/augmented_1d5f5c33e155a284b0c271b3200ae9c0a9bd9ce6.tif\n",
      "data/train/augmented_0bdf56ebc407a0aecb9f5ea9bbaf7ab8b12ec96a.tif\n",
      "data/train/augmented_cd964cad734483677ae1e6f61a7ea54d469c83e6.tif\n",
      "data/train/augmented_c2d9d6d692363791392bb675af23837bd0a3971f.tif\n",
      "data/train/augmented_22712ef75b3bc0e989a7c0c1f111cf5c240855ac.tif\n",
      "data/train/augmented_be7778bc3172521bd2ac36951d3e35bc19258d11.tif\n",
      "data/train/augmented_0ccf14dda5011ec82cf513cd76fbb09ba81d8062.tif\n",
      "data/train/augmented_843fdc918657e3ee6257456b71d0e7f4edafe389.tif\n",
      "data/train/augmented_7f406f1d883a137c9509df1ae11718e18b91a9d4.tif\n",
      "data/train/augmented_a865daced6cfec4a97f5a33e873d041ae492740f.tif\n",
      "data/train/augmented_903bc1a3fce0829d60559728582598a52d22dc99.tif\n",
      "data/train/augmented_3d6625891cf0c2b19b7a0d8197be79ec4daee0ac.tif\n",
      "data/train/augmented_e7852b083357daee82bdd9307436bbdde29dd7f4.tif\n",
      "data/train/augmented_d21458991dd0d90bc126a0a479f05312ea13b99b.tif\n",
      "data/train/augmented_319bfb1ed9872f66b1a175c22b03f85d9f4bec9c.tif\n",
      "data/train/augmented_843bf88ee4a58f47807eec3deb0855533661d483.tif\n",
      "data/train/augmented_59f81de1213091d397a6f399207287d75c7f83a4.tif\n",
      "data/train/augmented_6e491872b06a6b1843baf00b0b00e3064dfb17c3.tif\n",
      "data/train/augmented_487c954b701644f82ec8f74e7badfd401f5448e2.tif\n",
      "data/train/augmented_e67b7e6150ca4247a916f8a95b0335b2edbb67f8.tif\n",
      "data/train/augmented_8726045129866c45c7468c52a91c45723ad78d3b.tif\n",
      "data/train/augmented_a710a529192b7a64a803defe5bec35583fe01c67.tif\n",
      "data/train/augmented_e5963a7443750f16dfb0e01605b719bbfa16913c.tif\n",
      "data/train/augmented_ce9f228e19e12a70f128866718d5e1d05df17be2.tif\n",
      "data/train/augmented_22f7431550cee741d7f446a73ca70d9091021a41.tif\n",
      "data/train/augmented_199af0dc79a4f08ede133ea72c816fef56061062.tif\n",
      "data/train/augmented_c9d1b4d7985b7c7cc6b2b067dbf479c5ac85ec78.tif\n",
      "data/train/augmented_d303beab28909b9bc5e91687e27227cc1c0f91af.tif\n",
      "data/train/augmented_89682718897b4b44977212949181fd5c86c83721.tif\n",
      "data/train/augmented_2ded9ca69d91c1ef14fd9cd2ebf8079d50e94879.tif\n",
      "data/train/augmented_b48b61296750eade3ed81e55870812857d24ca6c.tif\n",
      "data/train/augmented_e9693383df6a5eb1f706c09ec7aca260d0d728f9.tif\n",
      "data/train/augmented_5ffa35785d16161b7606c8fa9e0c25debf904b72.tif\n",
      "data/train/augmented_ab8c625f89a5ce5677d132c1e27691a3f5658adf.tif\n",
      "data/train/augmented_334aa7ff0b9439f78f11b253414ae39d5edf1599.tif\n",
      "data/train/augmented_b9ad1ce33f7c2611640ff117ecd88515be4a16d0.tif\n",
      "data/train/augmented_374492ecba4860782bed5c28667ac7f0946f2175.tif\n",
      "data/train/augmented_50e4e89f4d3c888bb32a4d594f482a77a50a5c04.tif\n",
      "data/train/augmented_bc9867e43a75466af78a59ad7cd389ef04b1c8a2.tif\n",
      "data/train/augmented_582f21513831dbb78ab58e696e6be3dfd108f7c3.tif\n",
      "data/train/augmented_a09d9c289dfe11851f54d0e8aaf25a28ea93e243.tif\n",
      "data/train/augmented_ea1b56d6a304f4109cc5e2b7eeb8c2e9bcd5011f.tif\n",
      "data/train/augmented_0695ca6d3ec18f030fbd17d3475df5ffbf0f6c87.tif\n",
      "data/train/augmented_0056f90ad92b7f408f52964348adec20f8298e68.tif\n",
      "data/train/augmented_57826173fd31a785782c34a11ec54afe0dd01c57.tif\n",
      "data/train/augmented_e307f3b38b2e8bd60c6b0110ebe3a215a3d64c2b.tif\n",
      "data/train/augmented_ffe08cf806319b96a398b647aeb293c968d63450.tif\n",
      "data/train/augmented_66d5fa69c95106688efbf208068c2920d908c0e6.tif\n",
      "data/train/augmented_c316efea8c8ddf7f1788734d348c3694db89baf6.tif\n",
      "data/train/augmented_532dfd16d628980bae214a0d2f34a121ba0bbb57.tif\n",
      "data/train/augmented_6d0a99acf31ff4ca2a32758e890934937ba9e1aa.tif\n",
      "data/train/augmented_50747503811527886aeac40fc6cc1080ef00e69c.tif\n",
      "data/train/augmented_355005bd00d7e96174ad936bdc509448bd3fe2d0.tif\n",
      "data/train/augmented_b60f3888302e7e6698d602db3e7e69e3373815a9.tif\n",
      "data/train/augmented_f66398e087b110cc5e25a8d1117167b136543fe1.tif\n",
      "data/train/augmented_9c5e270d46dfed997c5014d46aabe4383f1d736a.tif\n",
      "data/train/augmented_29d8dfbc14a5261193e910dcb07c5df385190f12.tif\n",
      "data/train/augmented_16ec1e9626b12eb7fdfbe0635e27ebdf9a40b2b1.tif\n",
      "data/train/augmented_0476f134c7169dbda2fdbc9ddf0016e26033ab53.tif\n",
      "data/train/augmented_096b442a4e88993ccc4ac528b437ee4fb4f37340.tif\n",
      "data/train/augmented_04923a7cef0c63f4249007ef406c0fbadcfdfc11.tif\n",
      "data/train/augmented_77361fbe6e2639730e482f695c8a79bd6e730d68.tif\n",
      "data/train/augmented_66cd3e92182ad45e65a3eb23131d4ab6d139aa3e.tif\n",
      "data/train/augmented_6d95af33aa5c522c2e7d94ba88c0554f5a414996.tif\n",
      "data/train/augmented_fca14cdd3da30628109fbac150ad29d94e060688.tif\n",
      "data/train/augmented_3f99a21cddab7f53e37003b92b7ebf33a2d6407b.tif\n",
      "data/train/augmented_1e41d2b61793e8257e3049ed70edcb48d6c42a34.tif\n",
      "data/train/augmented_11dd39f5305643fe0c76743185af9fb609e205a8.tif\n"
     ]
    },
    {
     "output_type": "execute_result",
     "data": {
      "text/plain": [
       "(230025, 2)"
      ]
     },
     "metadata": {},
     "execution_count": 103
    }
   ],
   "source": [
    "#Augment test images randomly\n",
    "\n",
    "images_path=\"data/train\" #path to original images\n",
    "augmented_path=\"data/train\" # path to store augmented images\n",
    "images=[] # to store paths of images from folder\n",
    "\n",
    "for im in os.listdir(images_path):  # read image name from folder and append its path into \"images\" array     \n",
    "    images.append(os.path.join(images_path,im))\n",
    "\n",
    "images_to_generate=10000 #you can change this value according to your requirement\n",
    "\n",
    "for i in range(images_to_generate):    \n",
    "    image=random.choice(images)\n",
    "    id = image[11:-4]\n",
    "    label = data[data['id'] == id].iloc[0]['label']\n",
    "    data = data.append({\"id\":'augmented_'+id,'label':label},ignore_index=True)\n",
    "    transformed_image= readCroppedImage(image)\n",
    "    new_image_path= \"data/train/augmented_%s.tif\" %(id)\n",
    "    print(new_image_path)\n",
    "    cv2.imwrite(new_image_path, transformed_image) # save transformed image to path\n",
    "\n",
    "#Save new label file which has the augmented images\n",
    "data.to_csv('data/new_train_labels.csv')\n",
    "data.shape"
   ]
  },
  {
   "cell_type": "code",
   "execution_count": 104,
   "metadata": {},
   "outputs": [
    {
     "output_type": "execute_result",
     "data": {
      "text/plain": [
       "0    136792\n",
       "1     93233\n",
       "Name: label, dtype: int64"
      ]
     },
     "metadata": {},
     "execution_count": 104
    }
   ],
   "source": [
    "# Load the new csv that now includes the augmented images \n",
    "df_data = pd.read_csv('data/new_train_labels.csv')\n",
    "\n",
    "# Check the class distribution\n",
    "df_data['label'].value_counts()"
   ]
  },
  {
   "source": [
    "## Balance the target distribution\n",
    "\n",
    "As decided earlier with the variable SAMPLE_SIZE, we will subset our original data into 160000 images half labelled 0, the other labelled 1."
   ],
   "cell_type": "markdown",
   "metadata": {}
  },
  {
   "cell_type": "code",
   "execution_count": 105,
   "metadata": {},
   "outputs": [
    {
     "output_type": "execute_result",
     "data": {
      "text/plain": [
       "1    80000\n",
       "0    80000\n",
       "Name: label, dtype: int64"
      ]
     },
     "metadata": {},
     "execution_count": 105
    }
   ],
   "source": [
    "# Load the new csv that now includes the augmented images \n",
    "df_data = pd.read_csv('data/new_train_labels.csv')\n",
    "\n",
    "# take a random sample of class 0 with size equal to num samples in class 1\n",
    "df_0 = df_data[df_data['label'] == 0].sample(SAMPLE_SIZE, random_state = 101)\n",
    "# filter out class 1\n",
    "df_1 = df_data[df_data['label'] == 1].sample(SAMPLE_SIZE, random_state = 101)\n",
    "\n",
    "# concat the dataframes\n",
    "df_data = pd.concat([df_0, df_1], axis=0).reset_index(drop=True)\n",
    "# shuffle\n",
    "df_data = shuffle(df_data)\n",
    "\n",
    "df_data['label'].value_counts()"
   ]
  },
  {
   "cell_type": "code",
   "execution_count": 106,
   "metadata": {},
   "outputs": [
    {
     "output_type": "execute_result",
     "data": {
      "text/plain": [
       "        Unnamed: 0                                        id  label\n",
       "59256        15213  03ff02aad3e6a2e59af41435e0ab83a048148e7b      0\n",
       "47458       106796  4138f63457be8bc056e9262003655e37064d25b6      0\n",
       "114606      217808  a3ee2c7df2c169f8ee83d868e5fc8e753145b7a1      1\n",
       "106357      174926  641b5f9e09ec73fcf1078c50de8beb77a369e06a      1\n",
       "1383         40395  342053ed552d92ae9ea7b62f4ead5847e7c45984      0"
      ],
      "text/html": "<div>\n<style scoped>\n    .dataframe tbody tr th:only-of-type {\n        vertical-align: middle;\n    }\n\n    .dataframe tbody tr th {\n        vertical-align: top;\n    }\n\n    .dataframe thead th {\n        text-align: right;\n    }\n</style>\n<table border=\"1\" class=\"dataframe\">\n  <thead>\n    <tr style=\"text-align: right;\">\n      <th></th>\n      <th>Unnamed: 0</th>\n      <th>id</th>\n      <th>label</th>\n    </tr>\n  </thead>\n  <tbody>\n    <tr>\n      <th>59256</th>\n      <td>15213</td>\n      <td>03ff02aad3e6a2e59af41435e0ab83a048148e7b</td>\n      <td>0</td>\n    </tr>\n    <tr>\n      <th>47458</th>\n      <td>106796</td>\n      <td>4138f63457be8bc056e9262003655e37064d25b6</td>\n      <td>0</td>\n    </tr>\n    <tr>\n      <th>114606</th>\n      <td>217808</td>\n      <td>a3ee2c7df2c169f8ee83d868e5fc8e753145b7a1</td>\n      <td>1</td>\n    </tr>\n    <tr>\n      <th>106357</th>\n      <td>174926</td>\n      <td>641b5f9e09ec73fcf1078c50de8beb77a369e06a</td>\n      <td>1</td>\n    </tr>\n    <tr>\n      <th>1383</th>\n      <td>40395</td>\n      <td>342053ed552d92ae9ea7b62f4ead5847e7c45984</td>\n      <td>0</td>\n    </tr>\n  </tbody>\n</table>\n</div>"
     },
     "metadata": {},
     "execution_count": 106
    }
   ],
   "source": [
    "df_data.head()"
   ]
  },
  {
   "cell_type": "code",
   "execution_count": 107,
   "metadata": {},
   "outputs": [
    {
     "output_type": "stream",
     "name": "stdout",
     "text": [
      "(144000, 3)\n(16000, 3)\n"
     ]
    }
   ],
   "source": [
    "# train_test_split\n",
    "\n",
    "# stratify=y creates a balanced validation set.\n",
    "y = df_data['label']\n",
    "\n",
    "df_train, df_val = train_test_split(df_data, test_size=0.10, random_state=101, stratify=y)\n",
    "\n",
    "print(df_train.shape)\n",
    "print(df_val.shape)"
   ]
  },
  {
   "cell_type": "code",
   "execution_count": 108,
   "metadata": {},
   "outputs": [
    {
     "output_type": "execute_result",
     "data": {
      "text/plain": [
       "1    72000\n",
       "0    72000\n",
       "Name: label, dtype: int64"
      ]
     },
     "metadata": {},
     "execution_count": 108
    }
   ],
   "source": [
    "# Check the training set counts\n",
    "df_train['label'].value_counts()"
   ]
  },
  {
   "cell_type": "code",
   "execution_count": 109,
   "metadata": {},
   "outputs": [
    {
     "output_type": "execute_result",
     "data": {
      "text/plain": [
       "1    8000\n",
       "0    8000\n",
       "Name: label, dtype: int64"
      ]
     },
     "metadata": {},
     "execution_count": 109
    }
   ],
   "source": [
    "# Check the validation set counts\n",
    "df_val['label'].value_counts()"
   ]
  },
  {
   "source": [
    "## Directory structure for image generators"
   ],
   "cell_type": "markdown",
   "metadata": {}
  },
  {
   "source": [
    "## Creating the folders"
   ],
   "cell_type": "markdown",
   "metadata": {}
  },
  {
   "cell_type": "code",
   "execution_count": 110,
   "metadata": {},
   "outputs": [],
   "source": [
    "# Create a new directory\n",
    "base_dir = 'data/base_dir'\n",
    "os.mkdir(base_dir)\n",
    "\n",
    "#[CREATE FOLDERS INSIDE THE BASE DIRECTORY]\n",
    "\n",
    "# now we create 2 folders inside 'base_dir':\n",
    "\n",
    "# train_dir\n",
    "    # a_no_tumor_tissue\n",
    "    # b_has_tumor_tissue\n",
    "\n",
    "# val_dir\n",
    "    # a_no_tumor_tissue\n",
    "    # b_has_tumor_tissue\n",
    "\n",
    "\n",
    "# create a path to 'base_dir' to which we will join the names of the new folders\n",
    "# train_dir\n",
    "train_dir = os.path.join(base_dir, 'train_dir')\n",
    "os.mkdir(train_dir)\n",
    "\n",
    "# val_dir\n",
    "val_dir = os.path.join(base_dir, 'val_dir')\n",
    "os.mkdir(val_dir)\n",
    "\n",
    "# [CREATE FOLDERS INSIDE THE TRAIN AND VALIDATION FOLDERS]\n",
    "# Inside each folder we create seperate folders for each class\n",
    "\n",
    "# create new folders inside train_dir\n",
    "no_tumor_tissue = os.path.join(train_dir, 'a_no_tumor_tissue')\n",
    "os.mkdir(no_tumor_tissue)\n",
    "has_tumor_tissue = os.path.join(train_dir, 'b_has_tumor_tissue')\n",
    "os.mkdir(has_tumor_tissue)\n",
    "\n",
    "# create new folders inside val_dir\n",
    "no_tumor_tissue = os.path.join(val_dir, 'a_no_tumor_tissue')\n",
    "os.mkdir(no_tumor_tissue)\n",
    "has_tumor_tissue = os.path.join(val_dir, 'b_has_tumor_tissue')\n",
    "os.mkdir(has_tumor_tissue)"
   ]
  },
  {
   "cell_type": "code",
   "execution_count": 111,
   "metadata": {},
   "outputs": [
    {
     "output_type": "execute_result",
     "data": {
      "text/plain": [
       "['a_no_tumor_tissue', 'b_has_tumor_tissue']"
      ]
     },
     "metadata": {},
     "execution_count": 111
    }
   ],
   "source": [
    "# check that the folders have been created\n",
    "os.listdir('data/base_dir/train_dir')"
   ]
  },
  {
   "source": [
    "## Splitting images into folders"
   ],
   "cell_type": "markdown",
   "metadata": {}
  },
  {
   "cell_type": "code",
   "execution_count": 113,
   "metadata": {},
   "outputs": [
    {
     "output_type": "error",
     "ename": "KeyError",
     "evalue": "\"None of ['id'] are in the columns\"",
     "traceback": [
      "\u001b[0;31m---------------------------------------------------------------------------\u001b[0m",
      "\u001b[0;31mKeyError\u001b[0m                                  Traceback (most recent call last)",
      "\u001b[0;32m<ipython-input-113-83d2ea874344>\u001b[0m in \u001b[0;36m<module>\u001b[0;34m\u001b[0m\n\u001b[1;32m      1\u001b[0m \u001b[0;31m# Set the id as the index in df_data\u001b[0m\u001b[0;34m\u001b[0m\u001b[0;34m\u001b[0m\u001b[0;34m\u001b[0m\u001b[0m\n\u001b[0;32m----> 2\u001b[0;31m \u001b[0mdf_data\u001b[0m\u001b[0;34m.\u001b[0m\u001b[0mset_index\u001b[0m\u001b[0;34m(\u001b[0m\u001b[0;34m'id'\u001b[0m\u001b[0;34m,\u001b[0m \u001b[0minplace\u001b[0m\u001b[0;34m=\u001b[0m\u001b[0;32mTrue\u001b[0m\u001b[0;34m)\u001b[0m\u001b[0;34m\u001b[0m\u001b[0;34m\u001b[0m\u001b[0m\n\u001b[0m\u001b[1;32m      3\u001b[0m \u001b[0;34m\u001b[0m\u001b[0m\n\u001b[1;32m      4\u001b[0m \u001b[0;31m# Get a list of train and val images\u001b[0m\u001b[0;34m\u001b[0m\u001b[0;34m\u001b[0m\u001b[0;34m\u001b[0m\u001b[0m\n\u001b[1;32m      5\u001b[0m \u001b[0mtrain_list\u001b[0m \u001b[0;34m=\u001b[0m \u001b[0mlist\u001b[0m\u001b[0;34m(\u001b[0m\u001b[0mdf_train\u001b[0m\u001b[0;34m[\u001b[0m\u001b[0;34m'id'\u001b[0m\u001b[0;34m]\u001b[0m\u001b[0;34m)\u001b[0m\u001b[0;34m\u001b[0m\u001b[0;34m\u001b[0m\u001b[0m\n",
      "\u001b[0;32m~/Code/pds/venv/lib/python3.8/site-packages/pandas/core/frame.py\u001b[0m in \u001b[0;36mset_index\u001b[0;34m(self, keys, drop, append, inplace, verify_integrity)\u001b[0m\n\u001b[1;32m   4548\u001b[0m \u001b[0;34m\u001b[0m\u001b[0m\n\u001b[1;32m   4549\u001b[0m         \u001b[0;32mif\u001b[0m \u001b[0mmissing\u001b[0m\u001b[0;34m:\u001b[0m\u001b[0;34m\u001b[0m\u001b[0;34m\u001b[0m\u001b[0m\n\u001b[0;32m-> 4550\u001b[0;31m             \u001b[0;32mraise\u001b[0m \u001b[0mKeyError\u001b[0m\u001b[0;34m(\u001b[0m\u001b[0;34mf\"None of {missing} are in the columns\"\u001b[0m\u001b[0;34m)\u001b[0m\u001b[0;34m\u001b[0m\u001b[0;34m\u001b[0m\u001b[0m\n\u001b[0m\u001b[1;32m   4551\u001b[0m \u001b[0;34m\u001b[0m\u001b[0m\n\u001b[1;32m   4552\u001b[0m         \u001b[0;32mif\u001b[0m \u001b[0minplace\u001b[0m\u001b[0;34m:\u001b[0m\u001b[0;34m\u001b[0m\u001b[0;34m\u001b[0m\u001b[0m\n",
      "\u001b[0;31mKeyError\u001b[0m: \"None of ['id'] are in the columns\""
     ]
    }
   ],
   "source": [
    "# Set the id as the index in df_data\n",
    "df_data.set_index('id', inplace=True)\n",
    "\n",
    "# Get a list of train and val images\n",
    "train_list = list(df_train['id'])\n",
    "val_list = list(df_val['id'])"
   ]
  },
  {
   "cell_type": "code",
   "execution_count": 114,
   "metadata": {},
   "outputs": [
    {
     "output_type": "execute_result",
     "data": {
      "text/plain": [
       "'7580260da07a5b6ffa7af74ac1e53b07d1c75bd8'"
      ]
     },
     "metadata": {},
     "execution_count": 114
    }
   ],
   "source": [
    "train_list[1]"
   ]
  },
  {
   "cell_type": "code",
   "execution_count": 115,
   "metadata": {},
   "outputs": [
    {
     "output_type": "execute_result",
     "data": {
      "text/plain": [
       "                                          Unnamed: 0  label\n",
       "id                                                         \n",
       "03ff02aad3e6a2e59af41435e0ab83a048148e7b       15213      0"
      ],
      "text/html": "<div>\n<style scoped>\n    .dataframe tbody tr th:only-of-type {\n        vertical-align: middle;\n    }\n\n    .dataframe tbody tr th {\n        vertical-align: top;\n    }\n\n    .dataframe thead th {\n        text-align: right;\n    }\n</style>\n<table border=\"1\" class=\"dataframe\">\n  <thead>\n    <tr style=\"text-align: right;\">\n      <th></th>\n      <th>Unnamed: 0</th>\n      <th>label</th>\n    </tr>\n    <tr>\n      <th>id</th>\n      <th></th>\n      <th></th>\n    </tr>\n  </thead>\n  <tbody>\n    <tr>\n      <th>03ff02aad3e6a2e59af41435e0ab83a048148e7b</th>\n      <td>15213</td>\n      <td>0</td>\n    </tr>\n  </tbody>\n</table>\n</div>"
     },
     "metadata": {},
     "execution_count": 115
    }
   ],
   "source": [
    "df_data.head(n=1)"
   ]
  },
  {
   "cell_type": "code",
   "execution_count": 116,
   "metadata": {},
   "outputs": [],
   "source": [
    "# Transfer the train images\n",
    "count = 0\n",
    "\n",
    "for image in train_list:\n",
    "    count += 1\n",
    "    # the id in the csv file does not have the .tif extension therefore we add it here\n",
    "    fname = image + '.tif'\n",
    "    # get the label for a certain image\n",
    "    target = df_data.loc[image,'label']\n",
    "\n",
    "    # these must match the folder names\n",
    "    if target.any() == 0:\n",
    "        label = 'a_no_tumor_tissue'\n",
    "    if target.any() == 1:\n",
    "        label = 'b_has_tumor_tissue'\n",
    "    \n",
    "    # source path to image\n",
    "    src = os.path.join('data/train', fname)\n",
    "    # destination path to image\n",
    "    dst = os.path.join(train_dir, label, fname)\n",
    "    # copy the image from the source to the destination\n",
    "    shutil.copyfile(src, dst)\n",
    "\n",
    "\n",
    "# Transfer the val images\n",
    "\n",
    "for image in val_list:\n",
    "    \n",
    "    # the id in the csv file does not have the .tif extension therefore we add it here\n",
    "    fname = image + '.tif'\n",
    "    # get the label for a certain image\n",
    "    target = df_data.loc[image,'label']\n",
    "    \n",
    "    # these must match the folder names\n",
    "    if target.any() == 0:\n",
    "        label = 'a_no_tumor_tissue'\n",
    "    if target.any() == 1:\n",
    "        label = 'b_has_tumor_tissue'\n",
    "    \n",
    "\n",
    "    # source path to image\n",
    "    src = os.path.join('data/train', fname)\n",
    "    # destination path to image\n",
    "    dst = os.path.join(val_dir, label, fname)\n",
    "    # copy the image from the source to the destination\n",
    "    shutil.copyfile(src, dst)"
   ]
  },
  {
   "cell_type": "code",
   "execution_count": 118,
   "metadata": {},
   "outputs": [
    {
     "output_type": "stream",
     "name": "stdout",
     "text": [
      "71961\n",
      "71928\n"
     ]
    }
   ],
   "source": [
    "# check how many train images we have in each folder\n",
    "print(len(os.listdir('data/base_dir/train_dir/a_no_tumor_tissue')))\n",
    "print(len(os.listdir('data/base_dir/train_dir/b_has_tumor_tissue')))"
   ]
  },
  {
   "cell_type": "code",
   "execution_count": 119,
   "metadata": {},
   "outputs": [
    {
     "output_type": "stream",
     "name": "stdout",
     "text": [
      "8000\n8000\n"
     ]
    }
   ],
   "source": [
    "# check how many val images we have in each folder\n",
    "print(len(os.listdir('data/base_dir/val_dir/a_no_tumor_tissue')))\n",
    "print(len(os.listdir('data/base_dir/val_dir/b_has_tumor_tissue')))\n"
   ]
  },
  {
   "source": [
    "## Setting up the generators"
   ],
   "cell_type": "markdown",
   "metadata": {}
  },
  {
   "cell_type": "code",
   "execution_count": 120,
   "metadata": {},
   "outputs": [],
   "source": [
    "train_path = 'data/base_dir/train_dir'\n",
    "valid_path = 'data/base_dir/val_dir'\n",
    "\n",
    "num_train_samples = len(df_train)\n",
    "num_val_samples = len(df_val)\n",
    "train_batch_size = 10\n",
    "val_batch_size = 10\n",
    "\n",
    "train_steps = np.ceil(num_train_samples / train_batch_size)\n",
    "val_steps = np.ceil(num_val_samples / val_batch_size)"
   ]
  },
  {
   "cell_type": "code",
   "execution_count": 121,
   "metadata": {},
   "outputs": [
    {
     "output_type": "stream",
     "name": "stdout",
     "text": [
      "Found 143889 images belonging to 2 classes.\n",
      "Found 16000 images belonging to 2 classes.\n"
     ]
    }
   ],
   "source": [
    "datagen = ImageDataGenerator(rescale=1.0/255)\n",
    "\n",
    "train_gen = datagen.flow_from_directory(train_path,\n",
    "                                        target_size=(IMAGE_SIZE,IMAGE_SIZE),\n",
    "                                        batch_size=train_batch_size,\n",
    "                                        class_mode='categorical')\n",
    "\n",
    "val_gen = datagen.flow_from_directory(valid_path,\n",
    "                                        target_size=(IMAGE_SIZE,IMAGE_SIZE),\n",
    "                                        batch_size=val_batch_size,\n",
    "                                        class_mode='categorical')"
   ]
  },
  {
   "source": [
    "# 4. Model creation & assessment\n",
    "\n",
    "This is the stage where we create a model that trains on the data. In our case, we chose to manually create a neural network model implemented with the keras library. We created a feedforward neural network with 24 layers all using the relu activation function."
   ],
   "cell_type": "markdown",
   "metadata": {}
  },
  {
   "source": [
    "## Logistic Regression Model"
   ],
   "cell_type": "markdown",
   "metadata": {}
  },
  {
   "source": [
    "## Manually built CNN Model"
   ],
   "cell_type": "markdown",
   "metadata": {}
  },
  {
   "cell_type": "code",
   "execution_count": null,
   "metadata": {},
   "outputs": [],
   "source": [
    "# Model architecture\n",
    "kernel_size = (3,3)\n",
    "pool_size= (2,2)\n",
    "first_filters = 32\n",
    "second_filters = 64\n",
    "third_filters = 128\n",
    "\n",
    "dropout_conv = 0.3\n",
    "dropout_dense = 0.3\n",
    "\n",
    "# Neural network creation and layer adding\n",
    "model = Sequential()\n",
    "model.add(Conv2D(first_filters, kernel_size, activation = 'relu', input_shape = (96, 96, 3)))\n",
    "model.add(Conv2D(first_filters, kernel_size, activation = 'relu'))\n",
    "model.add(Conv2D(first_filters, kernel_size, activation = 'relu'))\n",
    "model.add(MaxPooling2D(pool_size = pool_size)) \n",
    "model.add(Dropout(dropout_conv))\n",
    "\n",
    "model.add(Conv2D(second_filters, kernel_size, activation ='relu'))\n",
    "model.add(Conv2D(second_filters, kernel_size, activation ='relu'))\n",
    "model.add(Conv2D(second_filters, kernel_size, activation ='relu'))\n",
    "model.add(MaxPooling2D(pool_size = pool_size))\n",
    "model.add(Dropout(dropout_conv))\n",
    "\n",
    "model.add(Conv2D(third_filters, kernel_size, activation ='relu'))\n",
    "model.add(Conv2D(third_filters, kernel_size, activation ='relu'))\n",
    "model.add(Conv2D(third_filters, kernel_size, activation ='relu'))\n",
    "model.add(MaxPooling2D(pool_size = pool_size))\n",
    "model.add(Dropout(dropout_conv))\n",
    "\n",
    "model.add(Flatten())\n",
    "model.add(Dense(256, activation = \"relu\"))\n",
    "model.add(Dropout(dropout_dense))\n",
    "model.add(Dense(2, activation = \"softmax\"))\n",
    "\n",
    "# Key details for each layer\n",
    "model.summary()\n",
    "\n",
    "# Compile the model\n",
    "model.compile(Adam(lr=0.0001), loss='binary_crossentropy', \n",
    "              metrics=['accuracy'])\n",
    "\n",
    "# Get the labels that are associated with each index\n",
    "print(val_gen.class_indices)"
   ]
  },
  {
   "source": [
    "### Training"
   ],
   "cell_type": "markdown",
   "metadata": {}
  },
  {
   "cell_type": "code",
   "execution_count": null,
   "metadata": {},
   "outputs": [],
   "source": [
    "# Train through 20 epochs in hopes to improve accuracy\n",
    "checkpoint = ModelCheckpoint(filepath, monitor='val_accuracy', verbose=1, \n",
    "                             save_best_only=True, mode='max')\n",
    "\n",
    "reduce_lr = ReduceLROnPlateau(monitor='val_accuracy', factor=0.5, patience=2, \n",
    "                                   verbose=0, mode='max', min_lr=0.00001)\n",
    "                                                      \n",
    "callbacks_list = [checkpoint, reduce_lr]\n",
    "\n",
    "history = model.fit_generator(train_gen, steps_per_epoch=train_steps, \n",
    "                    validation_data=val_gen,\n",
    "                    validation_steps=val_steps,\n",
    "                    epochs=20, verbose=0,\n",
    "                   callbacks=callbacks_list)\n",
    "\n",
    "# Train through 20 epochs in hopes to improve accuracy\n",
    "\n",
    "filepath = \"model.h5\"\n",
    "checkpoint = ModelCheckpoint(filepath, monitor='val_accuracy', verbose=1, \n",
    "                             save_best_only=True, mode='max')\n",
    "\n",
    "reduce_lr = ReduceLROnPlateau(monitor='val_accuracy', factor=0.5, patience=2, \n",
    "                                   verbose=0, mode='max', min_lr=0.00001)\n",
    "                                                      \n",
    "callbacks_list = [checkpoint, reduce_lr]\n",
    "\n",
    "history = model.fit_generator(train_gen, steps_per_epoch=train_steps, \n",
    "                    validation_data=val_gen,\n",
    "                    validation_steps=val_steps,\n",
    "                    epochs=20, verbose=0,\n",
    "                   callbacks=callbacks_list)\n",
    "\n",
    "model.save(\"cnn_model.h5\")\n",
    "\n",
    "# convert the history.history dict to a pandas DataFrame:     \n",
    "hist_df= pd.DataFrame(history.history) \n",
    "# or save to csv: \n",
    "hist_csv_file = 'cnn_model_history.csv'\n",
    "with open(hist_csv_file, mode='w') as f:\n",
    "    hist_df.to_csv(f)"
   ]
  },
  {
   "source": [
    "## VGG16 Model"
   ],
   "cell_type": "markdown",
   "metadata": {}
  },
  {
   "cell_type": "code",
   "execution_count": null,
   "metadata": {},
   "outputs": [],
   "source": [
    "from keras.applications.vgg16 import VGG16, preprocess_input\n",
    "\n",
    "# VGG model without the last classifier layers (include_top = False)\n",
    "vgg16_model = VGG16(include_top = False,\n",
    "                    input_shape = (96,96,3),\n",
    "                    #weights='../input/VGG16weights/vgg16_weights_tf_dim_ordering_tf_kernels_notop.h5')\n",
    "                    weights = 'imagenet')\n",
    "    \n",
    "# Freeze the layers \n",
    "for layer in vgg16_model.layers[:-12]:\n",
    "    layer.trainable = False\n",
    "    \n",
    "# Check the trainable status of the individual layers\n",
    "for layer in vgg16_model.layers:\n",
    "    print(layer, layer.trainable)"
   ]
  },
  {
   "cell_type": "code",
   "execution_count": null,
   "metadata": {},
   "outputs": [],
   "source": [
    "from keras.models import Sequential\n",
    "from keras.layers import Dense,Flatten,Dropout\n",
    "from keras import optimizers\n",
    "\n",
    "model = Sequential()\n",
    "model.add(vgg16_model)\n",
    "model.add(Flatten())\n",
    "model.add(Dense(1024, activation=\"relu\"))\n",
    "model.add(Dropout(0.5))\n",
    "model.add(Dense(512, activation=\"relu\"))\n",
    "model.add(Dropout(0.5))\n",
    "model.add(Dense(2, activation=\"softmax\"))\n",
    "\n",
    "model.compile(loss='binary_crossentropy',optimizer=optimizers.SGD(lr=0.00001, momentum=0.95),metrics=['accuracy'])"
   ]
  },
  {
   "cell_type": "code",
   "execution_count": null,
   "metadata": {},
   "outputs": [],
   "source": [
    "### Train the model using the train set\n",
    "\n",
    "checkpoint_2 = ModelCheckpoint(filepath_2, monitor='val_accuracy', verbose=1, \n",
    "                             save_best_only=True, mode='max')\n",
    "\n",
    "reduce_lr_2 = ReduceLROnPlateau(monitor='val_accuracy', factor=0.5, patience=2, \n",
    "                                   verbose=0, mode='max', min_lr=0.00001)\n",
    "                              \n",
    "                              \n",
    "callbacks_list_2 = [checkpoint_2, reduce_lr_2]\n",
    "\n",
    "history_2 =  model.fit_generator(train_gen, steps_per_epoch=train_steps, \n",
    "                    validation_data=val_gen,\n",
    "                    validation_steps=val_steps,\n",
    "                    epochs=20, verbose=0,\n",
    "                   callbacks=callbacks_list_2)\n",
    "\n",
    "# convert the history.history dict to a pandas DataFrame:     \n",
    "hist_df= pd.DataFrame(history_2.history) \n",
    "\n",
    "# or save to csv: \n",
    "hist_csv_file = 'vgg16_model_history.csv'\n",
    "with open(hist_csv_file, mode='w') as f:\n",
    "    hist_df.to_csv(f)"
   ]
  },
  {
   "source": [
    "# 4. Evaluating our model\n",
    "\n",
    "In this section, we will load our CNN model (model.h5) and use it to classify images in the test set. We will then plot the confusion matrix, AUC-ROC, and submit our results to Kaggle and check out our ranking. "
   ],
   "cell_type": "markdown",
   "metadata": {}
  },
  {
   "cell_type": "code",
   "execution_count": 154,
   "metadata": {},
   "outputs": [
    {
     "output_type": "stream",
     "name": "stdout",
     "text": [
      "1600/1600 [==============================] - 62s 39ms/step - loss: 0.3177 - accuracy: 0.8648\n",
      "val_loss: 0.31770581007003784\n",
      "val_acc: 0.8647500276565552\n"
     ]
    }
   ],
   "source": [
    "from tensorflow.keras.models import load_model\n",
    "\n",
    "##### Load the model\n",
    "model.load_weights('model.h5')\n",
    "\n",
    "val_loss, val_acc = model.evaluate(val_gen, steps=val_steps)\n",
    "\n",
    "print('val_loss:', val_loss)\n",
    "print('val_acc:', val_acc)"
   ]
  },
  {
   "cell_type": "code",
   "execution_count": 155,
   "metadata": {},
   "outputs": [
    {
     "output_type": "error",
     "ename": "NameError",
     "evalue": "name 'history' is not defined",
     "traceback": [
      "\u001b[0;31m---------------------------------------------------------------------------\u001b[0m",
      "\u001b[0;31mNameError\u001b[0m                                 Traceback (most recent call last)",
      "\u001b[0;32m<ipython-input-155-ccb5199fcd60>\u001b[0m in \u001b[0;36m<module>\u001b[0;34m\u001b[0m\n\u001b[1;32m      3\u001b[0m \u001b[0;32mimport\u001b[0m \u001b[0mmatplotlib\u001b[0m\u001b[0;34m.\u001b[0m\u001b[0mpyplot\u001b[0m \u001b[0;32mas\u001b[0m \u001b[0mplt\u001b[0m\u001b[0;34m\u001b[0m\u001b[0;34m\u001b[0m\u001b[0m\n\u001b[1;32m      4\u001b[0m \u001b[0;34m\u001b[0m\u001b[0m\n\u001b[0;32m----> 5\u001b[0;31m \u001b[0macc\u001b[0m \u001b[0;34m=\u001b[0m \u001b[0mhistory\u001b[0m\u001b[0;34m.\u001b[0m\u001b[0mhistory\u001b[0m\u001b[0;34m[\u001b[0m\u001b[0;34m'acc'\u001b[0m\u001b[0;34m]\u001b[0m\u001b[0;34m\u001b[0m\u001b[0;34m\u001b[0m\u001b[0m\n\u001b[0m\u001b[1;32m      6\u001b[0m \u001b[0mval_acc\u001b[0m \u001b[0;34m=\u001b[0m \u001b[0mhistory\u001b[0m\u001b[0;34m.\u001b[0m\u001b[0mhistory\u001b[0m\u001b[0;34m[\u001b[0m\u001b[0;34m'val_acc'\u001b[0m\u001b[0;34m]\u001b[0m\u001b[0;34m\u001b[0m\u001b[0;34m\u001b[0m\u001b[0m\n\u001b[1;32m      7\u001b[0m \u001b[0mloss\u001b[0m \u001b[0;34m=\u001b[0m \u001b[0mhistory\u001b[0m\u001b[0;34m.\u001b[0m\u001b[0mhistory\u001b[0m\u001b[0;34m[\u001b[0m\u001b[0;34m'loss'\u001b[0m\u001b[0;34m]\u001b[0m\u001b[0;34m\u001b[0m\u001b[0;34m\u001b[0m\u001b[0m\n",
      "\u001b[0;31mNameError\u001b[0m: name 'history' is not defined"
     ]
    }
   ],
   "source": [
    "# display the loss and accuracy curves\n",
    "\n",
    "import matplotlib.pyplot as plt\n",
    "\n",
    "acc = history.history['acc']\n",
    "val_acc = history.history['val_acc']\n",
    "loss = history.history['loss']\n",
    "val_loss = history.history['val_loss']\n",
    "\n",
    "epochs = range(1, len(acc) + 1)\n",
    "\n",
    "plt.plot(epochs, loss, 'bo', label='Training loss')\n",
    "plt.plot(epochs, val_loss, 'b', label='Validation loss')\n",
    "plt.title('Training and validation loss')\n",
    "plt.legend()\n",
    "plt.figure()\n",
    "\n",
    "plt.plot(epochs, acc, 'bo', label='Training acc')\n",
    "plt.plot(epochs, val_acc, 'b', label='Validation acc')\n",
    "plt.title('Training and validation accuracy')\n",
    "plt.legend()\n",
    "plt.figure()"
   ]
  },
  {
   "cell_type": "code",
   "execution_count": 156,
   "metadata": {},
   "outputs": [
    {
     "output_type": "stream",
     "name": "stdout",
     "text": [
      "<class 'numpy.ndarray'>\n"
     ]
    }
   ],
   "source": [
    "#Predict on validation set\n",
    "\n",
    "Y_pred = model.predict(x = val_gen, batch_size = num_val_samples//val_batch_size)"
   ]
  },
  {
   "cell_type": "code",
   "execution_count": 199,
   "metadata": {},
   "outputs": [
    {
     "output_type": "stream",
     "name": "stdout",
     "text": [
      "[[5239 2761]\n [5258 2742]]\n"
     ]
    }
   ],
   "source": [
    "y_preds = pd.DataFrame(Y_pred, columns=['no_tumor_tissue', 'has_tumor_tissue'])\n",
    "y_preds.head()\n",
    "threshold = 0.9\n",
    "y_preds['label'] = (y_preds['has_tumor_tissue'] > threshold).astype(int)\n",
    "y_preds.head()\n",
    "pred_label = y_preds['label']\n",
    "cm = confusion_matrix(val_gen.classes, pred_label)\n",
    "print(cm)"
   ]
  },
  {
   "cell_type": "code",
   "execution_count": 200,
   "metadata": {},
   "outputs": [
    {
     "output_type": "stream",
     "name": "stdout",
     "text": [
      "              precision    recall  f1-score   support\n\n    No tumor       0.50      0.65      0.57      8000\n   Has tumor       0.50      0.34      0.41      8000\n\n    accuracy                           0.50     16000\n   macro avg       0.50      0.50      0.49     16000\nweighted avg       0.50      0.50      0.49     16000\n\n"
     ]
    }
   ],
   "source": [
    "# Plot non-normalized confusion matrix\n",
    "from sklearn.metrics import plot_confusion_matrix, classification_report\n",
    "print(classification_report(val_gen.classes, pred_label, target_names=['No tumor','Has tumor']))"
   ]
  },
  {
   "cell_type": "code",
   "execution_count": 203,
   "metadata": {},
   "outputs": [
    {
     "output_type": "stream",
     "name": "stdout",
     "text": [
      "0.5031249999999999\n"
     ]
    }
   ],
   "source": [
    "from sklearn.metrics import roc_curve,roc_auc_score, plot_roc_curve\n",
    "\n",
    "# false-positive rate, true-positive rate, thresholds\n",
    "fpr, tpr, thresholds = roc_curve (val_gen.classes, y_pred)\n",
    "\n",
    "print(roc_auc_score(val_gen.classes, y_pred))\n"
   ]
  },
  {
   "cell_type": "code",
   "execution_count": 146,
   "metadata": {},
   "outputs": [
    {
     "output_type": "display_data",
     "data": {
      "text/plain": "<Figure size 432x288 with 1 Axes>",
      "image/svg+xml": "<?xml version=\"1.0\" encoding=\"utf-8\" standalone=\"no\"?>\n<!DOCTYPE svg PUBLIC \"-//W3C//DTD SVG 1.1//EN\"\n  \"http://www.w3.org/Graphics/SVG/1.1/DTD/svg11.dtd\">\n<!-- Created with matplotlib (https://matplotlib.org/) -->\n<svg height=\"277.314375pt\" version=\"1.1\" viewBox=\"0 0 385.78125 277.314375\" width=\"385.78125pt\" xmlns=\"http://www.w3.org/2000/svg\" xmlns:xlink=\"http://www.w3.org/1999/xlink\">\n <metadata>\n  <rdf:RDF xmlns:cc=\"http://creativecommons.org/ns#\" xmlns:dc=\"http://purl.org/dc/elements/1.1/\" xmlns:rdf=\"http://www.w3.org/1999/02/22-rdf-syntax-ns#\">\n   <cc:Work>\n    <dc:type rdf:resource=\"http://purl.org/dc/dcmitype/StillImage\"/>\n    <dc:date>2020-10-29T20:56:35.142032</dc:date>\n    <dc:format>image/svg+xml</dc:format>\n    <dc:creator>\n     <cc:Agent>\n      <dc:title>Matplotlib v3.3.2, https://matplotlib.org/</dc:title>\n     </cc:Agent>\n    </dc:creator>\n   </cc:Work>\n  </rdf:RDF>\n </metadata>\n <defs>\n  <style type=\"text/css\">*{stroke-linecap:butt;stroke-linejoin:round;}</style>\n </defs>\n <g id=\"figure_1\">\n  <g id=\"patch_1\">\n   <path d=\"M 0 277.314375 \nL 385.78125 277.314375 \nL 385.78125 0 \nL 0 0 \nz\n\" style=\"fill:none;\"/>\n  </g>\n  <g id=\"axes_1\">\n   <g id=\"patch_2\">\n    <path d=\"M 43.78125 239.758125 \nL 378.58125 239.758125 \nL 378.58125 22.318125 \nL 43.78125 22.318125 \nz\n\" style=\"fill:#ffffff;\"/>\n   </g>\n   <g id=\"matplotlib.axis_1\">\n    <g id=\"xtick_1\">\n     <g id=\"line2d_1\">\n      <defs>\n       <path d=\"M 0 0 \nL 0 3.5 \n\" id=\"m4448aae340\" style=\"stroke:#000000;stroke-width:0.8;\"/>\n      </defs>\n      <g>\n       <use style=\"stroke:#000000;stroke-width:0.8;\" x=\"58.999432\" xlink:href=\"#m4448aae340\" y=\"239.758125\"/>\n      </g>\n     </g>\n     <g id=\"text_1\">\n      <!-- 0.0 -->\n      <g transform=\"translate(51.047869 254.356562)scale(0.1 -0.1)\">\n       <defs>\n        <path d=\"M 31.78125 66.40625 \nQ 24.171875 66.40625 20.328125 58.90625 \nQ 16.5 51.421875 16.5 36.375 \nQ 16.5 21.390625 20.328125 13.890625 \nQ 24.171875 6.390625 31.78125 6.390625 \nQ 39.453125 6.390625 43.28125 13.890625 \nQ 47.125 21.390625 47.125 36.375 \nQ 47.125 51.421875 43.28125 58.90625 \nQ 39.453125 66.40625 31.78125 66.40625 \nz\nM 31.78125 74.21875 \nQ 44.046875 74.21875 50.515625 64.515625 \nQ 56.984375 54.828125 56.984375 36.375 \nQ 56.984375 17.96875 50.515625 8.265625 \nQ 44.046875 -1.421875 31.78125 -1.421875 \nQ 19.53125 -1.421875 13.0625 8.265625 \nQ 6.59375 17.96875 6.59375 36.375 \nQ 6.59375 54.828125 13.0625 64.515625 \nQ 19.53125 74.21875 31.78125 74.21875 \nz\n\" id=\"DejaVuSans-48\"/>\n        <path d=\"M 10.6875 12.40625 \nL 21 12.40625 \nL 21 0 \nL 10.6875 0 \nz\n\" id=\"DejaVuSans-46\"/>\n       </defs>\n       <use xlink:href=\"#DejaVuSans-48\"/>\n       <use x=\"63.623047\" xlink:href=\"#DejaVuSans-46\"/>\n       <use x=\"95.410156\" xlink:href=\"#DejaVuSans-48\"/>\n      </g>\n     </g>\n    </g>\n    <g id=\"xtick_2\">\n     <g id=\"line2d_2\">\n      <g>\n       <use style=\"stroke:#000000;stroke-width:0.8;\" x=\"119.872159\" xlink:href=\"#m4448aae340\" y=\"239.758125\"/>\n      </g>\n     </g>\n     <g id=\"text_2\">\n      <!-- 0.2 -->\n      <g transform=\"translate(111.920597 254.356562)scale(0.1 -0.1)\">\n       <defs>\n        <path d=\"M 19.1875 8.296875 \nL 53.609375 8.296875 \nL 53.609375 0 \nL 7.328125 0 \nL 7.328125 8.296875 \nQ 12.9375 14.109375 22.625 23.890625 \nQ 32.328125 33.6875 34.8125 36.53125 \nQ 39.546875 41.84375 41.421875 45.53125 \nQ 43.3125 49.21875 43.3125 52.78125 \nQ 43.3125 58.59375 39.234375 62.25 \nQ 35.15625 65.921875 28.609375 65.921875 \nQ 23.96875 65.921875 18.8125 64.3125 \nQ 13.671875 62.703125 7.8125 59.421875 \nL 7.8125 69.390625 \nQ 13.765625 71.78125 18.9375 73 \nQ 24.125 74.21875 28.421875 74.21875 \nQ 39.75 74.21875 46.484375 68.546875 \nQ 53.21875 62.890625 53.21875 53.421875 \nQ 53.21875 48.921875 51.53125 44.890625 \nQ 49.859375 40.875 45.40625 35.40625 \nQ 44.1875 33.984375 37.640625 27.21875 \nQ 31.109375 20.453125 19.1875 8.296875 \nz\n\" id=\"DejaVuSans-50\"/>\n       </defs>\n       <use xlink:href=\"#DejaVuSans-48\"/>\n       <use x=\"63.623047\" xlink:href=\"#DejaVuSans-46\"/>\n       <use x=\"95.410156\" xlink:href=\"#DejaVuSans-50\"/>\n      </g>\n     </g>\n    </g>\n    <g id=\"xtick_3\">\n     <g id=\"line2d_3\">\n      <g>\n       <use style=\"stroke:#000000;stroke-width:0.8;\" x=\"180.744886\" xlink:href=\"#m4448aae340\" y=\"239.758125\"/>\n      </g>\n     </g>\n     <g id=\"text_3\">\n      <!-- 0.4 -->\n      <g transform=\"translate(172.793324 254.356562)scale(0.1 -0.1)\">\n       <defs>\n        <path d=\"M 37.796875 64.3125 \nL 12.890625 25.390625 \nL 37.796875 25.390625 \nz\nM 35.203125 72.90625 \nL 47.609375 72.90625 \nL 47.609375 25.390625 \nL 58.015625 25.390625 \nL 58.015625 17.1875 \nL 47.609375 17.1875 \nL 47.609375 0 \nL 37.796875 0 \nL 37.796875 17.1875 \nL 4.890625 17.1875 \nL 4.890625 26.703125 \nz\n\" id=\"DejaVuSans-52\"/>\n       </defs>\n       <use xlink:href=\"#DejaVuSans-48\"/>\n       <use x=\"63.623047\" xlink:href=\"#DejaVuSans-46\"/>\n       <use x=\"95.410156\" xlink:href=\"#DejaVuSans-52\"/>\n      </g>\n     </g>\n    </g>\n    <g id=\"xtick_4\">\n     <g id=\"line2d_4\">\n      <g>\n       <use style=\"stroke:#000000;stroke-width:0.8;\" x=\"241.617614\" xlink:href=\"#m4448aae340\" y=\"239.758125\"/>\n      </g>\n     </g>\n     <g id=\"text_4\">\n      <!-- 0.6 -->\n      <g transform=\"translate(233.666051 254.356562)scale(0.1 -0.1)\">\n       <defs>\n        <path d=\"M 33.015625 40.375 \nQ 26.375 40.375 22.484375 35.828125 \nQ 18.609375 31.296875 18.609375 23.390625 \nQ 18.609375 15.53125 22.484375 10.953125 \nQ 26.375 6.390625 33.015625 6.390625 \nQ 39.65625 6.390625 43.53125 10.953125 \nQ 47.40625 15.53125 47.40625 23.390625 \nQ 47.40625 31.296875 43.53125 35.828125 \nQ 39.65625 40.375 33.015625 40.375 \nz\nM 52.59375 71.296875 \nL 52.59375 62.3125 \nQ 48.875 64.0625 45.09375 64.984375 \nQ 41.3125 65.921875 37.59375 65.921875 \nQ 27.828125 65.921875 22.671875 59.328125 \nQ 17.53125 52.734375 16.796875 39.40625 \nQ 19.671875 43.65625 24.015625 45.921875 \nQ 28.375 48.1875 33.59375 48.1875 \nQ 44.578125 48.1875 50.953125 41.515625 \nQ 57.328125 34.859375 57.328125 23.390625 \nQ 57.328125 12.15625 50.6875 5.359375 \nQ 44.046875 -1.421875 33.015625 -1.421875 \nQ 20.359375 -1.421875 13.671875 8.265625 \nQ 6.984375 17.96875 6.984375 36.375 \nQ 6.984375 53.65625 15.1875 63.9375 \nQ 23.390625 74.21875 37.203125 74.21875 \nQ 40.921875 74.21875 44.703125 73.484375 \nQ 48.484375 72.75 52.59375 71.296875 \nz\n\" id=\"DejaVuSans-54\"/>\n       </defs>\n       <use xlink:href=\"#DejaVuSans-48\"/>\n       <use x=\"63.623047\" xlink:href=\"#DejaVuSans-46\"/>\n       <use x=\"95.410156\" xlink:href=\"#DejaVuSans-54\"/>\n      </g>\n     </g>\n    </g>\n    <g id=\"xtick_5\">\n     <g id=\"line2d_5\">\n      <g>\n       <use style=\"stroke:#000000;stroke-width:0.8;\" x=\"302.490341\" xlink:href=\"#m4448aae340\" y=\"239.758125\"/>\n      </g>\n     </g>\n     <g id=\"text_5\">\n      <!-- 0.8 -->\n      <g transform=\"translate(294.538778 254.356562)scale(0.1 -0.1)\">\n       <defs>\n        <path d=\"M 31.78125 34.625 \nQ 24.75 34.625 20.71875 30.859375 \nQ 16.703125 27.09375 16.703125 20.515625 \nQ 16.703125 13.921875 20.71875 10.15625 \nQ 24.75 6.390625 31.78125 6.390625 \nQ 38.8125 6.390625 42.859375 10.171875 \nQ 46.921875 13.96875 46.921875 20.515625 \nQ 46.921875 27.09375 42.890625 30.859375 \nQ 38.875 34.625 31.78125 34.625 \nz\nM 21.921875 38.8125 \nQ 15.578125 40.375 12.03125 44.71875 \nQ 8.5 49.078125 8.5 55.328125 \nQ 8.5 64.0625 14.71875 69.140625 \nQ 20.953125 74.21875 31.78125 74.21875 \nQ 42.671875 74.21875 48.875 69.140625 \nQ 55.078125 64.0625 55.078125 55.328125 \nQ 55.078125 49.078125 51.53125 44.71875 \nQ 48 40.375 41.703125 38.8125 \nQ 48.828125 37.15625 52.796875 32.3125 \nQ 56.78125 27.484375 56.78125 20.515625 \nQ 56.78125 9.90625 50.3125 4.234375 \nQ 43.84375 -1.421875 31.78125 -1.421875 \nQ 19.734375 -1.421875 13.25 4.234375 \nQ 6.78125 9.90625 6.78125 20.515625 \nQ 6.78125 27.484375 10.78125 32.3125 \nQ 14.796875 37.15625 21.921875 38.8125 \nz\nM 18.3125 54.390625 \nQ 18.3125 48.734375 21.84375 45.5625 \nQ 25.390625 42.390625 31.78125 42.390625 \nQ 38.140625 42.390625 41.71875 45.5625 \nQ 45.3125 48.734375 45.3125 54.390625 \nQ 45.3125 60.0625 41.71875 63.234375 \nQ 38.140625 66.40625 31.78125 66.40625 \nQ 25.390625 66.40625 21.84375 63.234375 \nQ 18.3125 60.0625 18.3125 54.390625 \nz\n\" id=\"DejaVuSans-56\"/>\n       </defs>\n       <use xlink:href=\"#DejaVuSans-48\"/>\n       <use x=\"63.623047\" xlink:href=\"#DejaVuSans-46\"/>\n       <use x=\"95.410156\" xlink:href=\"#DejaVuSans-56\"/>\n      </g>\n     </g>\n    </g>\n    <g id=\"xtick_6\">\n     <g id=\"line2d_6\">\n      <g>\n       <use style=\"stroke:#000000;stroke-width:0.8;\" x=\"363.363068\" xlink:href=\"#m4448aae340\" y=\"239.758125\"/>\n      </g>\n     </g>\n     <g id=\"text_6\">\n      <!-- 1.0 -->\n      <g transform=\"translate(355.411506 254.356562)scale(0.1 -0.1)\">\n       <defs>\n        <path d=\"M 12.40625 8.296875 \nL 28.515625 8.296875 \nL 28.515625 63.921875 \nL 10.984375 60.40625 \nL 10.984375 69.390625 \nL 28.421875 72.90625 \nL 38.28125 72.90625 \nL 38.28125 8.296875 \nL 54.390625 8.296875 \nL 54.390625 0 \nL 12.40625 0 \nz\n\" id=\"DejaVuSans-49\"/>\n       </defs>\n       <use xlink:href=\"#DejaVuSans-49\"/>\n       <use x=\"63.623047\" xlink:href=\"#DejaVuSans-46\"/>\n       <use x=\"95.410156\" xlink:href=\"#DejaVuSans-48\"/>\n      </g>\n     </g>\n    </g>\n    <g id=\"text_7\">\n     <!-- False positive rate -->\n     <g transform=\"translate(165.680469 268.034687)scale(0.1 -0.1)\">\n      <defs>\n       <path d=\"M 9.8125 72.90625 \nL 51.703125 72.90625 \nL 51.703125 64.59375 \nL 19.671875 64.59375 \nL 19.671875 43.109375 \nL 48.578125 43.109375 \nL 48.578125 34.8125 \nL 19.671875 34.8125 \nL 19.671875 0 \nL 9.8125 0 \nz\n\" id=\"DejaVuSans-70\"/>\n       <path d=\"M 34.28125 27.484375 \nQ 23.390625 27.484375 19.1875 25 \nQ 14.984375 22.515625 14.984375 16.5 \nQ 14.984375 11.71875 18.140625 8.90625 \nQ 21.296875 6.109375 26.703125 6.109375 \nQ 34.1875 6.109375 38.703125 11.40625 \nQ 43.21875 16.703125 43.21875 25.484375 \nL 43.21875 27.484375 \nz\nM 52.203125 31.203125 \nL 52.203125 0 \nL 43.21875 0 \nL 43.21875 8.296875 \nQ 40.140625 3.328125 35.546875 0.953125 \nQ 30.953125 -1.421875 24.3125 -1.421875 \nQ 15.921875 -1.421875 10.953125 3.296875 \nQ 6 8.015625 6 15.921875 \nQ 6 25.140625 12.171875 29.828125 \nQ 18.359375 34.515625 30.609375 34.515625 \nL 43.21875 34.515625 \nL 43.21875 35.40625 \nQ 43.21875 41.609375 39.140625 45 \nQ 35.0625 48.390625 27.6875 48.390625 \nQ 23 48.390625 18.546875 47.265625 \nQ 14.109375 46.140625 10.015625 43.890625 \nL 10.015625 52.203125 \nQ 14.9375 54.109375 19.578125 55.046875 \nQ 24.21875 56 28.609375 56 \nQ 40.484375 56 46.34375 49.84375 \nQ 52.203125 43.703125 52.203125 31.203125 \nz\n\" id=\"DejaVuSans-97\"/>\n       <path d=\"M 9.421875 75.984375 \nL 18.40625 75.984375 \nL 18.40625 0 \nL 9.421875 0 \nz\n\" id=\"DejaVuSans-108\"/>\n       <path d=\"M 44.28125 53.078125 \nL 44.28125 44.578125 \nQ 40.484375 46.53125 36.375 47.5 \nQ 32.28125 48.484375 27.875 48.484375 \nQ 21.1875 48.484375 17.84375 46.4375 \nQ 14.5 44.390625 14.5 40.28125 \nQ 14.5 37.15625 16.890625 35.375 \nQ 19.28125 33.59375 26.515625 31.984375 \nL 29.59375 31.296875 \nQ 39.15625 29.25 43.1875 25.515625 \nQ 47.21875 21.78125 47.21875 15.09375 \nQ 47.21875 7.46875 41.1875 3.015625 \nQ 35.15625 -1.421875 24.609375 -1.421875 \nQ 20.21875 -1.421875 15.453125 -0.5625 \nQ 10.6875 0.296875 5.421875 2 \nL 5.421875 11.28125 \nQ 10.40625 8.6875 15.234375 7.390625 \nQ 20.0625 6.109375 24.8125 6.109375 \nQ 31.15625 6.109375 34.5625 8.28125 \nQ 37.984375 10.453125 37.984375 14.40625 \nQ 37.984375 18.0625 35.515625 20.015625 \nQ 33.0625 21.96875 24.703125 23.78125 \nL 21.578125 24.515625 \nQ 13.234375 26.265625 9.515625 29.90625 \nQ 5.8125 33.546875 5.8125 39.890625 \nQ 5.8125 47.609375 11.28125 51.796875 \nQ 16.75 56 26.8125 56 \nQ 31.78125 56 36.171875 55.265625 \nQ 40.578125 54.546875 44.28125 53.078125 \nz\n\" id=\"DejaVuSans-115\"/>\n       <path d=\"M 56.203125 29.59375 \nL 56.203125 25.203125 \nL 14.890625 25.203125 \nQ 15.484375 15.921875 20.484375 11.0625 \nQ 25.484375 6.203125 34.421875 6.203125 \nQ 39.59375 6.203125 44.453125 7.46875 \nQ 49.3125 8.734375 54.109375 11.28125 \nL 54.109375 2.78125 \nQ 49.265625 0.734375 44.1875 -0.34375 \nQ 39.109375 -1.421875 33.890625 -1.421875 \nQ 20.796875 -1.421875 13.15625 6.1875 \nQ 5.515625 13.8125 5.515625 26.8125 \nQ 5.515625 40.234375 12.765625 48.109375 \nQ 20.015625 56 32.328125 56 \nQ 43.359375 56 49.78125 48.890625 \nQ 56.203125 41.796875 56.203125 29.59375 \nz\nM 47.21875 32.234375 \nQ 47.125 39.59375 43.09375 43.984375 \nQ 39.0625 48.390625 32.421875 48.390625 \nQ 24.90625 48.390625 20.390625 44.140625 \nQ 15.875 39.890625 15.1875 32.171875 \nz\n\" id=\"DejaVuSans-101\"/>\n       <path id=\"DejaVuSans-32\"/>\n       <path d=\"M 18.109375 8.203125 \nL 18.109375 -20.796875 \nL 9.078125 -20.796875 \nL 9.078125 54.6875 \nL 18.109375 54.6875 \nL 18.109375 46.390625 \nQ 20.953125 51.265625 25.265625 53.625 \nQ 29.59375 56 35.59375 56 \nQ 45.5625 56 51.78125 48.09375 \nQ 58.015625 40.1875 58.015625 27.296875 \nQ 58.015625 14.40625 51.78125 6.484375 \nQ 45.5625 -1.421875 35.59375 -1.421875 \nQ 29.59375 -1.421875 25.265625 0.953125 \nQ 20.953125 3.328125 18.109375 8.203125 \nz\nM 48.6875 27.296875 \nQ 48.6875 37.203125 44.609375 42.84375 \nQ 40.53125 48.484375 33.40625 48.484375 \nQ 26.265625 48.484375 22.1875 42.84375 \nQ 18.109375 37.203125 18.109375 27.296875 \nQ 18.109375 17.390625 22.1875 11.75 \nQ 26.265625 6.109375 33.40625 6.109375 \nQ 40.53125 6.109375 44.609375 11.75 \nQ 48.6875 17.390625 48.6875 27.296875 \nz\n\" id=\"DejaVuSans-112\"/>\n       <path d=\"M 30.609375 48.390625 \nQ 23.390625 48.390625 19.1875 42.75 \nQ 14.984375 37.109375 14.984375 27.296875 \nQ 14.984375 17.484375 19.15625 11.84375 \nQ 23.34375 6.203125 30.609375 6.203125 \nQ 37.796875 6.203125 41.984375 11.859375 \nQ 46.1875 17.53125 46.1875 27.296875 \nQ 46.1875 37.015625 41.984375 42.703125 \nQ 37.796875 48.390625 30.609375 48.390625 \nz\nM 30.609375 56 \nQ 42.328125 56 49.015625 48.375 \nQ 55.71875 40.765625 55.71875 27.296875 \nQ 55.71875 13.875 49.015625 6.21875 \nQ 42.328125 -1.421875 30.609375 -1.421875 \nQ 18.84375 -1.421875 12.171875 6.21875 \nQ 5.515625 13.875 5.515625 27.296875 \nQ 5.515625 40.765625 12.171875 48.375 \nQ 18.84375 56 30.609375 56 \nz\n\" id=\"DejaVuSans-111\"/>\n       <path d=\"M 9.421875 54.6875 \nL 18.40625 54.6875 \nL 18.40625 0 \nL 9.421875 0 \nz\nM 9.421875 75.984375 \nL 18.40625 75.984375 \nL 18.40625 64.59375 \nL 9.421875 64.59375 \nz\n\" id=\"DejaVuSans-105\"/>\n       <path d=\"M 18.3125 70.21875 \nL 18.3125 54.6875 \nL 36.8125 54.6875 \nL 36.8125 47.703125 \nL 18.3125 47.703125 \nL 18.3125 18.015625 \nQ 18.3125 11.328125 20.140625 9.421875 \nQ 21.96875 7.515625 27.59375 7.515625 \nL 36.8125 7.515625 \nL 36.8125 0 \nL 27.59375 0 \nQ 17.1875 0 13.234375 3.875 \nQ 9.28125 7.765625 9.28125 18.015625 \nL 9.28125 47.703125 \nL 2.6875 47.703125 \nL 2.6875 54.6875 \nL 9.28125 54.6875 \nL 9.28125 70.21875 \nz\n\" id=\"DejaVuSans-116\"/>\n       <path d=\"M 2.984375 54.6875 \nL 12.5 54.6875 \nL 29.59375 8.796875 \nL 46.6875 54.6875 \nL 56.203125 54.6875 \nL 35.6875 0 \nL 23.484375 0 \nz\n\" id=\"DejaVuSans-118\"/>\n       <path d=\"M 41.109375 46.296875 \nQ 39.59375 47.171875 37.8125 47.578125 \nQ 36.03125 48 33.890625 48 \nQ 26.265625 48 22.1875 43.046875 \nQ 18.109375 38.09375 18.109375 28.8125 \nL 18.109375 0 \nL 9.078125 0 \nL 9.078125 54.6875 \nL 18.109375 54.6875 \nL 18.109375 46.1875 \nQ 20.953125 51.171875 25.484375 53.578125 \nQ 30.03125 56 36.53125 56 \nQ 37.453125 56 38.578125 55.875 \nQ 39.703125 55.765625 41.0625 55.515625 \nz\n\" id=\"DejaVuSans-114\"/>\n      </defs>\n      <use xlink:href=\"#DejaVuSans-70\"/>\n      <use x=\"48.394531\" xlink:href=\"#DejaVuSans-97\"/>\n      <use x=\"109.673828\" xlink:href=\"#DejaVuSans-108\"/>\n      <use x=\"137.457031\" xlink:href=\"#DejaVuSans-115\"/>\n      <use x=\"189.556641\" xlink:href=\"#DejaVuSans-101\"/>\n      <use x=\"251.080078\" xlink:href=\"#DejaVuSans-32\"/>\n      <use x=\"282.867188\" xlink:href=\"#DejaVuSans-112\"/>\n      <use x=\"346.34375\" xlink:href=\"#DejaVuSans-111\"/>\n      <use x=\"407.525391\" xlink:href=\"#DejaVuSans-115\"/>\n      <use x=\"459.625\" xlink:href=\"#DejaVuSans-105\"/>\n      <use x=\"487.408203\" xlink:href=\"#DejaVuSans-116\"/>\n      <use x=\"526.617188\" xlink:href=\"#DejaVuSans-105\"/>\n      <use x=\"554.400391\" xlink:href=\"#DejaVuSans-118\"/>\n      <use x=\"613.580078\" xlink:href=\"#DejaVuSans-101\"/>\n      <use x=\"675.103516\" xlink:href=\"#DejaVuSans-32\"/>\n      <use x=\"706.890625\" xlink:href=\"#DejaVuSans-114\"/>\n      <use x=\"748.003906\" xlink:href=\"#DejaVuSans-97\"/>\n      <use x=\"809.283203\" xlink:href=\"#DejaVuSans-116\"/>\n      <use x=\"848.492188\" xlink:href=\"#DejaVuSans-101\"/>\n     </g>\n    </g>\n   </g>\n   <g id=\"matplotlib.axis_2\">\n    <g id=\"ytick_1\">\n     <g id=\"line2d_7\">\n      <defs>\n       <path d=\"M 0 0 \nL -3.5 0 \n\" id=\"m174c92ee17\" style=\"stroke:#000000;stroke-width:0.8;\"/>\n      </defs>\n      <g>\n       <use style=\"stroke:#000000;stroke-width:0.8;\" x=\"43.78125\" xlink:href=\"#m174c92ee17\" y=\"229.874489\"/>\n      </g>\n     </g>\n     <g id=\"text_8\">\n      <!-- 0.0 -->\n      <g transform=\"translate(20.878125 233.673707)scale(0.1 -0.1)\">\n       <use xlink:href=\"#DejaVuSans-48\"/>\n       <use x=\"63.623047\" xlink:href=\"#DejaVuSans-46\"/>\n       <use x=\"95.410156\" xlink:href=\"#DejaVuSans-48\"/>\n      </g>\n     </g>\n    </g>\n    <g id=\"ytick_2\">\n     <g id=\"line2d_8\">\n      <g>\n       <use style=\"stroke:#000000;stroke-width:0.8;\" x=\"43.78125\" xlink:href=\"#m174c92ee17\" y=\"190.339943\"/>\n      </g>\n     </g>\n     <g id=\"text_9\">\n      <!-- 0.2 -->\n      <g transform=\"translate(20.878125 194.139162)scale(0.1 -0.1)\">\n       <use xlink:href=\"#DejaVuSans-48\"/>\n       <use x=\"63.623047\" xlink:href=\"#DejaVuSans-46\"/>\n       <use x=\"95.410156\" xlink:href=\"#DejaVuSans-50\"/>\n      </g>\n     </g>\n    </g>\n    <g id=\"ytick_3\">\n     <g id=\"line2d_9\">\n      <g>\n       <use style=\"stroke:#000000;stroke-width:0.8;\" x=\"43.78125\" xlink:href=\"#m174c92ee17\" y=\"150.805398\"/>\n      </g>\n     </g>\n     <g id=\"text_10\">\n      <!-- 0.4 -->\n      <g transform=\"translate(20.878125 154.604616)scale(0.1 -0.1)\">\n       <use xlink:href=\"#DejaVuSans-48\"/>\n       <use x=\"63.623047\" xlink:href=\"#DejaVuSans-46\"/>\n       <use x=\"95.410156\" xlink:href=\"#DejaVuSans-52\"/>\n      </g>\n     </g>\n    </g>\n    <g id=\"ytick_4\">\n     <g id=\"line2d_10\">\n      <g>\n       <use style=\"stroke:#000000;stroke-width:0.8;\" x=\"43.78125\" xlink:href=\"#m174c92ee17\" y=\"111.270852\"/>\n      </g>\n     </g>\n     <g id=\"text_11\">\n      <!-- 0.6 -->\n      <g transform=\"translate(20.878125 115.070071)scale(0.1 -0.1)\">\n       <use xlink:href=\"#DejaVuSans-48\"/>\n       <use x=\"63.623047\" xlink:href=\"#DejaVuSans-46\"/>\n       <use x=\"95.410156\" xlink:href=\"#DejaVuSans-54\"/>\n      </g>\n     </g>\n    </g>\n    <g id=\"ytick_5\">\n     <g id=\"line2d_11\">\n      <g>\n       <use style=\"stroke:#000000;stroke-width:0.8;\" x=\"43.78125\" xlink:href=\"#m174c92ee17\" y=\"71.736307\"/>\n      </g>\n     </g>\n     <g id=\"text_12\">\n      <!-- 0.8 -->\n      <g transform=\"translate(20.878125 75.535526)scale(0.1 -0.1)\">\n       <use xlink:href=\"#DejaVuSans-48\"/>\n       <use x=\"63.623047\" xlink:href=\"#DejaVuSans-46\"/>\n       <use x=\"95.410156\" xlink:href=\"#DejaVuSans-56\"/>\n      </g>\n     </g>\n    </g>\n    <g id=\"ytick_6\">\n     <g id=\"line2d_12\">\n      <g>\n       <use style=\"stroke:#000000;stroke-width:0.8;\" x=\"43.78125\" xlink:href=\"#m174c92ee17\" y=\"32.201761\"/>\n      </g>\n     </g>\n     <g id=\"text_13\">\n      <!-- 1.0 -->\n      <g transform=\"translate(20.878125 36.00098)scale(0.1 -0.1)\">\n       <use xlink:href=\"#DejaVuSans-49\"/>\n       <use x=\"63.623047\" xlink:href=\"#DejaVuSans-46\"/>\n       <use x=\"95.410156\" xlink:href=\"#DejaVuSans-48\"/>\n      </g>\n     </g>\n    </g>\n    <g id=\"text_14\">\n     <!-- True positive rate -->\n     <g transform=\"translate(14.798438 174.602187)rotate(-90)scale(0.1 -0.1)\">\n      <defs>\n       <path d=\"M -0.296875 72.90625 \nL 61.375 72.90625 \nL 61.375 64.59375 \nL 35.5 64.59375 \nL 35.5 0 \nL 25.59375 0 \nL 25.59375 64.59375 \nL -0.296875 64.59375 \nz\n\" id=\"DejaVuSans-84\"/>\n       <path d=\"M 8.5 21.578125 \nL 8.5 54.6875 \nL 17.484375 54.6875 \nL 17.484375 21.921875 \nQ 17.484375 14.15625 20.5 10.265625 \nQ 23.53125 6.390625 29.59375 6.390625 \nQ 36.859375 6.390625 41.078125 11.03125 \nQ 45.3125 15.671875 45.3125 23.6875 \nL 45.3125 54.6875 \nL 54.296875 54.6875 \nL 54.296875 0 \nL 45.3125 0 \nL 45.3125 8.40625 \nQ 42.046875 3.421875 37.71875 1 \nQ 33.40625 -1.421875 27.6875 -1.421875 \nQ 18.265625 -1.421875 13.375 4.4375 \nQ 8.5 10.296875 8.5 21.578125 \nz\nM 31.109375 56 \nz\n\" id=\"DejaVuSans-117\"/>\n      </defs>\n      <use xlink:href=\"#DejaVuSans-84\"/>\n      <use x=\"46.333984\" xlink:href=\"#DejaVuSans-114\"/>\n      <use x=\"87.447266\" xlink:href=\"#DejaVuSans-117\"/>\n      <use x=\"150.826172\" xlink:href=\"#DejaVuSans-101\"/>\n      <use x=\"212.349609\" xlink:href=\"#DejaVuSans-32\"/>\n      <use x=\"244.136719\" xlink:href=\"#DejaVuSans-112\"/>\n      <use x=\"307.613281\" xlink:href=\"#DejaVuSans-111\"/>\n      <use x=\"368.794922\" xlink:href=\"#DejaVuSans-115\"/>\n      <use x=\"420.894531\" xlink:href=\"#DejaVuSans-105\"/>\n      <use x=\"448.677734\" xlink:href=\"#DejaVuSans-116\"/>\n      <use x=\"487.886719\" xlink:href=\"#DejaVuSans-105\"/>\n      <use x=\"515.669922\" xlink:href=\"#DejaVuSans-118\"/>\n      <use x=\"574.849609\" xlink:href=\"#DejaVuSans-101\"/>\n      <use x=\"636.373047\" xlink:href=\"#DejaVuSans-32\"/>\n      <use x=\"668.160156\" xlink:href=\"#DejaVuSans-114\"/>\n      <use x=\"709.273438\" xlink:href=\"#DejaVuSans-97\"/>\n      <use x=\"770.552734\" xlink:href=\"#DejaVuSans-116\"/>\n      <use x=\"809.761719\" xlink:href=\"#DejaVuSans-101\"/>\n     </g>\n    </g>\n   </g>\n   <g id=\"line2d_13\">\n    <path clip-path=\"url(#p94cde19da1)\" d=\"M 58.999432 229.874489 \nL 363.363068 32.201761 \n\" style=\"fill:none;stroke:#000000;stroke-dasharray:5.55,2.4;stroke-dashoffset:0;stroke-width:1.5;\"/>\n   </g>\n   <g id=\"line2d_14\">\n    <path clip-path=\"url(#p94cde19da1)\" d=\"M 58.999432 229.874489 \nL 216.773932 126.170434 \nL 363.363068 32.201761 \n\" style=\"fill:none;stroke:#1f77b4;stroke-linecap:square;stroke-width:1.5;\"/>\n   </g>\n   <g id=\"patch_3\">\n    <path d=\"M 43.78125 239.758125 \nL 43.78125 22.318125 \n\" style=\"fill:none;stroke:#000000;stroke-linecap:square;stroke-linejoin:miter;stroke-width:0.8;\"/>\n   </g>\n   <g id=\"patch_4\">\n    <path d=\"M 378.58125 239.758125 \nL 378.58125 22.318125 \n\" style=\"fill:none;stroke:#000000;stroke-linecap:square;stroke-linejoin:miter;stroke-width:0.8;\"/>\n   </g>\n   <g id=\"patch_5\">\n    <path d=\"M 43.78125 239.758125 \nL 378.58125 239.758125 \n\" style=\"fill:none;stroke:#000000;stroke-linecap:square;stroke-linejoin:miter;stroke-width:0.8;\"/>\n   </g>\n   <g id=\"patch_6\">\n    <path d=\"M 43.78125 22.318125 \nL 378.58125 22.318125 \n\" style=\"fill:none;stroke:#000000;stroke-linecap:square;stroke-linejoin:miter;stroke-width:0.8;\"/>\n   </g>\n   <g id=\"text_15\">\n    <!-- ROC curve -->\n    <g transform=\"translate(179.38125 16.318125)scale(0.12 -0.12)\">\n     <defs>\n      <path d=\"M 44.390625 34.1875 \nQ 47.5625 33.109375 50.5625 29.59375 \nQ 53.5625 26.078125 56.59375 19.921875 \nL 66.609375 0 \nL 56 0 \nL 46.6875 18.703125 \nQ 43.0625 26.03125 39.671875 28.421875 \nQ 36.28125 30.8125 30.421875 30.8125 \nL 19.671875 30.8125 \nL 19.671875 0 \nL 9.8125 0 \nL 9.8125 72.90625 \nL 32.078125 72.90625 \nQ 44.578125 72.90625 50.734375 67.671875 \nQ 56.890625 62.453125 56.890625 51.90625 \nQ 56.890625 45.015625 53.6875 40.46875 \nQ 50.484375 35.9375 44.390625 34.1875 \nz\nM 19.671875 64.796875 \nL 19.671875 38.921875 \nL 32.078125 38.921875 \nQ 39.203125 38.921875 42.84375 42.21875 \nQ 46.484375 45.515625 46.484375 51.90625 \nQ 46.484375 58.296875 42.84375 61.546875 \nQ 39.203125 64.796875 32.078125 64.796875 \nz\n\" id=\"DejaVuSans-82\"/>\n      <path d=\"M 39.40625 66.21875 \nQ 28.65625 66.21875 22.328125 58.203125 \nQ 16.015625 50.203125 16.015625 36.375 \nQ 16.015625 22.609375 22.328125 14.59375 \nQ 28.65625 6.59375 39.40625 6.59375 \nQ 50.140625 6.59375 56.421875 14.59375 \nQ 62.703125 22.609375 62.703125 36.375 \nQ 62.703125 50.203125 56.421875 58.203125 \nQ 50.140625 66.21875 39.40625 66.21875 \nz\nM 39.40625 74.21875 \nQ 54.734375 74.21875 63.90625 63.9375 \nQ 73.09375 53.65625 73.09375 36.375 \nQ 73.09375 19.140625 63.90625 8.859375 \nQ 54.734375 -1.421875 39.40625 -1.421875 \nQ 24.03125 -1.421875 14.8125 8.828125 \nQ 5.609375 19.09375 5.609375 36.375 \nQ 5.609375 53.65625 14.8125 63.9375 \nQ 24.03125 74.21875 39.40625 74.21875 \nz\n\" id=\"DejaVuSans-79\"/>\n      <path d=\"M 64.40625 67.28125 \nL 64.40625 56.890625 \nQ 59.421875 61.53125 53.78125 63.8125 \nQ 48.140625 66.109375 41.796875 66.109375 \nQ 29.296875 66.109375 22.65625 58.46875 \nQ 16.015625 50.828125 16.015625 36.375 \nQ 16.015625 21.96875 22.65625 14.328125 \nQ 29.296875 6.6875 41.796875 6.6875 \nQ 48.140625 6.6875 53.78125 8.984375 \nQ 59.421875 11.28125 64.40625 15.921875 \nL 64.40625 5.609375 \nQ 59.234375 2.09375 53.4375 0.328125 \nQ 47.65625 -1.421875 41.21875 -1.421875 \nQ 24.65625 -1.421875 15.125 8.703125 \nQ 5.609375 18.84375 5.609375 36.375 \nQ 5.609375 53.953125 15.125 64.078125 \nQ 24.65625 74.21875 41.21875 74.21875 \nQ 47.75 74.21875 53.53125 72.484375 \nQ 59.328125 70.75 64.40625 67.28125 \nz\n\" id=\"DejaVuSans-67\"/>\n      <path d=\"M 48.78125 52.59375 \nL 48.78125 44.1875 \nQ 44.96875 46.296875 41.140625 47.34375 \nQ 37.3125 48.390625 33.40625 48.390625 \nQ 24.65625 48.390625 19.8125 42.84375 \nQ 14.984375 37.3125 14.984375 27.296875 \nQ 14.984375 17.28125 19.8125 11.734375 \nQ 24.65625 6.203125 33.40625 6.203125 \nQ 37.3125 6.203125 41.140625 7.25 \nQ 44.96875 8.296875 48.78125 10.40625 \nL 48.78125 2.09375 \nQ 45.015625 0.34375 40.984375 -0.53125 \nQ 36.96875 -1.421875 32.421875 -1.421875 \nQ 20.0625 -1.421875 12.78125 6.34375 \nQ 5.515625 14.109375 5.515625 27.296875 \nQ 5.515625 40.671875 12.859375 48.328125 \nQ 20.21875 56 33.015625 56 \nQ 37.15625 56 41.109375 55.140625 \nQ 45.0625 54.296875 48.78125 52.59375 \nz\n\" id=\"DejaVuSans-99\"/>\n     </defs>\n     <use xlink:href=\"#DejaVuSans-82\"/>\n     <use x=\"69.482422\" xlink:href=\"#DejaVuSans-79\"/>\n     <use x=\"148.193359\" xlink:href=\"#DejaVuSans-67\"/>\n     <use x=\"218.017578\" xlink:href=\"#DejaVuSans-32\"/>\n     <use x=\"249.804688\" xlink:href=\"#DejaVuSans-99\"/>\n     <use x=\"304.785156\" xlink:href=\"#DejaVuSans-117\"/>\n     <use x=\"368.164062\" xlink:href=\"#DejaVuSans-114\"/>\n     <use x=\"409.277344\" xlink:href=\"#DejaVuSans-118\"/>\n     <use x=\"468.457031\" xlink:href=\"#DejaVuSans-101\"/>\n    </g>\n   </g>\n   <g id=\"legend_1\">\n    <g id=\"patch_7\">\n     <path d=\"M 50.78125 44.99625 \nL 110.440625 44.99625 \nQ 112.440625 44.99625 112.440625 42.99625 \nL 112.440625 29.318125 \nQ 112.440625 27.318125 110.440625 27.318125 \nL 50.78125 27.318125 \nQ 48.78125 27.318125 48.78125 29.318125 \nL 48.78125 42.99625 \nQ 48.78125 44.99625 50.78125 44.99625 \nz\n\" style=\"fill:#ffffff;opacity:0.8;stroke:#cccccc;stroke-linejoin:miter;\"/>\n    </g>\n    <g id=\"line2d_15\">\n     <path d=\"M 52.78125 35.416562 \nL 72.78125 35.416562 \n\" style=\"fill:none;stroke:#1f77b4;stroke-linecap:square;stroke-width:1.5;\"/>\n    </g>\n    <g id=\"line2d_16\"/>\n    <g id=\"text_16\">\n     <!-- Keras -->\n     <g transform=\"translate(80.78125 38.916562)scale(0.1 -0.1)\">\n      <defs>\n       <path d=\"M 9.8125 72.90625 \nL 19.671875 72.90625 \nL 19.671875 42.09375 \nL 52.390625 72.90625 \nL 65.09375 72.90625 \nL 28.90625 38.921875 \nL 67.671875 0 \nL 54.6875 0 \nL 19.671875 35.109375 \nL 19.671875 0 \nL 9.8125 0 \nz\n\" id=\"DejaVuSans-75\"/>\n      </defs>\n      <use xlink:href=\"#DejaVuSans-75\"/>\n      <use x=\"60.576172\" xlink:href=\"#DejaVuSans-101\"/>\n      <use x=\"122.099609\" xlink:href=\"#DejaVuSans-114\"/>\n      <use x=\"163.212891\" xlink:href=\"#DejaVuSans-97\"/>\n      <use x=\"224.492188\" xlink:href=\"#DejaVuSans-115\"/>\n     </g>\n    </g>\n   </g>\n  </g>\n </g>\n <defs>\n  <clipPath id=\"p94cde19da1\">\n   <rect height=\"217.44\" width=\"334.8\" x=\"43.78125\" y=\"22.318125\"/>\n  </clipPath>\n </defs>\n</svg>\n",
      "image/png": "[encoded data removed]"
     },
     "metadata": {
      "needs_background": "light"
     }
    }
   ],
   "source": [
    "# Code adapted from https://hackernoon.com/simple-guide-on-how-to-generate-roc-plot-for-keras-classifier-2ecc6c73115a\n",
    "\n",
    "plt.figure(1)\n",
    "plt.plot([0, 1], [0, 1], 'k--')\n",
    "plt.plot(fpr, tpr, label='Keras')\n",
    "plt.xlabel('False positive rate')\n",
    "plt.ylabel('True positive rate')\n",
    "plt.title('ROC curve')\n",
    "plt.legend(loc='best')\n",
    "plt.show()"
   ]
  },
  {
   "source": [
    "## Kaggle submission\n",
    "Preparing the generators, producing the classifications and uploading it to Kaggle"
   ],
   "cell_type": "markdown",
   "metadata": {}
  },
  {
   "cell_type": "code",
   "execution_count": 209,
   "metadata": {},
   "outputs": [],
   "source": [
    "# create test_dir\n",
    "test_dir = 'data/test_dir'\n",
    "os.mkdir(test_dir)\n",
    "\n",
    "# create test_images inside test_dir\n",
    "test_images = os.path.join(test_dir, 'test_images')\n",
    "os.mkdir(test_images)"
   ]
  },
  {
   "cell_type": "code",
   "execution_count": 210,
   "metadata": {},
   "outputs": [],
   "source": [
    "# Transfer the test images into image_dir\n",
    "\n",
    "test_list = os.listdir('data/test')\n",
    "\n",
    "for image in test_list:\n",
    "    \n",
    "    fname = image\n",
    "    \n",
    "    # source path to image\n",
    "    src = os.path.join('data/test', fname)\n",
    "    # destination path to image\n",
    "    dst = os.path.join(test_images, fname)\n",
    "    # copy the image from the source to the destination\n",
    "    shutil.copyfile(src, dst)"
   ]
  },
  {
   "cell_type": "code",
   "execution_count": 211,
   "metadata": {},
   "outputs": [
    {
     "output_type": "stream",
     "name": "stdout",
     "text": [
      "Found 57458 images belonging to 1 classes.\n"
     ]
    }
   ],
   "source": [
    "num_test_samples = len(test_list)\n",
    "test_batch_size = 10\n",
    "test_steps = np.ceil(num_test_samples / test_batch_size)\n",
    "datagen = ImageDataGenerator(rescale=1.0/255)\n",
    "\n",
    "test_gen = datagen.flow_from_directory('data/test_dir',\n",
    "                                        target_size=(IMAGE_SIZE,IMAGE_SIZE),\n",
    "                                        batch_size=test_batch_size,\n",
    "                                        class_mode='categorical',\n",
    "                                        shuffle=False)"
   ]
  },
  {
   "cell_type": "code",
   "execution_count": 212,
   "metadata": {},
   "outputs": [
    {
     "output_type": "stream",
     "name": "stdout",
     "text": [
      "WARNING:tensorflow:From <ipython-input-212-bc04d0359680>:1: Model.predict_generator (from tensorflow.python.keras.engine.training) is deprecated and will be removed in a future version.\n",
      "Instructions for updating:\n",
      "Please use Model.predict, which supports generators.\n",
      "5746/5746 [==============================] - 212s 37ms/step\n"
     ]
    }
   ],
   "source": [
    "Y_preds = model.predict_generator(test_gen, steps=test_steps, verbose=1)"
   ]
  },
  {
   "cell_type": "code",
   "execution_count": 213,
   "metadata": {},
   "outputs": [
    {
     "output_type": "execute_result",
     "data": {
      "text/plain": [
       "   no_tumor_tissue  has_tumor_tissue\n",
       "0         0.016003          0.983997\n",
       "1         0.018343          0.981657\n",
       "2         0.073720          0.926280\n",
       "3         0.605464          0.394536\n",
       "4         0.974464          0.025536"
      ],
      "text/html": "<div>\n<style scoped>\n    .dataframe tbody tr th:only-of-type {\n        vertical-align: middle;\n    }\n\n    .dataframe tbody tr th {\n        vertical-align: top;\n    }\n\n    .dataframe thead th {\n        text-align: right;\n    }\n</style>\n<table border=\"1\" class=\"dataframe\">\n  <thead>\n    <tr style=\"text-align: right;\">\n      <th></th>\n      <th>no_tumor_tissue</th>\n      <th>has_tumor_tissue</th>\n    </tr>\n  </thead>\n  <tbody>\n    <tr>\n      <th>0</th>\n      <td>0.016003</td>\n      <td>0.983997</td>\n    </tr>\n    <tr>\n      <th>1</th>\n      <td>0.018343</td>\n      <td>0.981657</td>\n    </tr>\n    <tr>\n      <th>2</th>\n      <td>0.073720</td>\n      <td>0.926280</td>\n    </tr>\n    <tr>\n      <th>3</th>\n      <td>0.605464</td>\n      <td>0.394536</td>\n    </tr>\n    <tr>\n      <th>4</th>\n      <td>0.974464</td>\n      <td>0.025536</td>\n    </tr>\n  </tbody>\n</table>\n</div>"
     },
     "metadata": {},
     "execution_count": 213
    }
   ],
   "source": [
    "# Put the predictions into a dataframe\n",
    "\n",
    "Y_preds = pd.DataFrame(Y_pred, columns=['no_tumor_tissue', 'has_tumor_tissue'])\n",
    "\n",
    "Y_preds.head()"
   ]
  },
  {
   "cell_type": "code",
   "execution_count": null,
   "metadata": {},
   "outputs": [],
   "source": [
    "# This outputs the file names in the sequence in which \n",
    "# the generator processed the test images.\n",
    "test_filenames = test_gen.filenames\n",
    "print(test_filenames[:5])\n"
   ]
  },
  {
   "source": [
    "# 5. Interpreting our model\n",
    "\n",
    "We now attempt to interpret our convolutional neural network model, to understand what features in an image are important to classifying it as showing a breast tumor or not. \n",
    "\n",
    "LIME (locally interpretable model-agnostic explainer) will be used, as is conventional for image classification."
   ],
   "cell_type": "markdown",
   "metadata": {}
  },
  {
   "cell_type": "code",
   "execution_count": null,
   "metadata": {},
   "outputs": [],
   "source": []
  }
 ]
}